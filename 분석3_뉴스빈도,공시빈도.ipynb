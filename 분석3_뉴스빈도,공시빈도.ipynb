{
 "cells": [
  {
   "cell_type": "code",
   "execution_count": 123,
   "id": "4fad40df",
   "metadata": {
    "ExecuteTime": {
     "end_time": "2022-06-10T03:46:04.592954Z",
     "start_time": "2022-06-10T03:46:04.574012Z"
    }
   },
   "outputs": [],
   "source": [
    "import pandas as pd\n",
    "import numpy as np\n",
    "import matplotlib.pyplot as plt\n",
    "import seaborn as sns\n",
    "import re\n",
    "import os\n",
    "\n",
    "# 한글 폰트 사용을 위해서 세팅\n",
    "from matplotlib import font_manager, rc\n",
    "font_path = \"C:/Windows/Fonts/malgun.ttf\"\n",
    "font = font_manager.FontProperties(fname=font_path).get_name()\n",
    "rc('font', family=font)\n",
    "\n",
    "import matplotlib.ticker as ticker"
   ]
  },
  {
   "cell_type": "markdown",
   "id": "0c47e37e",
   "metadata": {},
   "source": [
    "# 뉴스 빈도"
   ]
  },
  {
   "cell_type": "code",
   "execution_count": 44,
   "id": "8c009686",
   "metadata": {
    "ExecuteTime": {
     "end_time": "2022-06-09T11:55:44.047522Z",
     "start_time": "2022-06-09T11:55:44.019216Z"
    }
   },
   "outputs": [
    {
     "name": "stdout",
     "output_type": "stream",
     "text": [
      "907\n"
     ]
    },
    {
     "data": {
      "text/html": [
       "<div>\n",
       "<style scoped>\n",
       "    .dataframe tbody tr th:only-of-type {\n",
       "        vertical-align: middle;\n",
       "    }\n",
       "\n",
       "    .dataframe tbody tr th {\n",
       "        vertical-align: top;\n",
       "    }\n",
       "\n",
       "    .dataframe thead th {\n",
       "        text-align: right;\n",
       "    }\n",
       "</style>\n",
       "<table border=\"1\" class=\"dataframe\">\n",
       "  <thead>\n",
       "    <tr style=\"text-align: right;\">\n",
       "      <th></th>\n",
       "      <th>날짜</th>\n",
       "      <th>뉴스제목</th>\n",
       "      <th>뉴스요약</th>\n",
       "    </tr>\n",
       "  </thead>\n",
       "  <tbody>\n",
       "    <tr>\n",
       "      <th>1313</th>\n",
       "      <td>2016-01-04</td>\n",
       "      <td>AJ네트웍스, SKB 등에업고 '고리사채급 위약금 폭탄'</td>\n",
       "      <td>AJ네트웍스가 SK브로드밴드를 통해 진행중인 '스마트렌탈'의 위약금 규정 및 취급상...</td>\n",
       "    </tr>\n",
       "    <tr>\n",
       "      <th>1312</th>\n",
       "      <td>2016-01-05</td>\n",
       "      <td>AJ네트웍스, 스마트폰, 태블릿PC 렌탈사업 시작</td>\n",
       "      <td>국내 IT기기 렌탈의 선두주자인 AJ네트웍스에서 Mobile Device(스마트폰,...</td>\n",
       "    </tr>\n",
       "    <tr>\n",
       "      <th>1311</th>\n",
       "      <td>2016-01-06</td>\n",
       "      <td>AJ네트웍스, 스마트폰, 태블릿PC 등 Mobile Device 렌탈 사업 시작</td>\n",
       "      <td>국내 IT기기 렌탈의 선두주자인 AJ네트웍스에서 Mobile Device(스마트폰,...</td>\n",
       "    </tr>\n",
       "    <tr>\n",
       "      <th>1332</th>\n",
       "      <td>2016-01-13</td>\n",
       "      <td>AJ네트웍스, 파렛트및 고소장비 렌탈 신규 서비스 브랜드 런칭</td>\n",
       "      <td>AJ네트웍스(사장 반채운)가 파렛트와 고소장비 렌탈 부문의 신규 서비스 브랜드를 런...</td>\n",
       "    </tr>\n",
       "    <tr>\n",
       "      <th>1335</th>\n",
       "      <td>2016-01-22</td>\n",
       "      <td>대상·AJ네트웍스 등 비우량채도 잇달아 발행 성공</td>\n",
       "      <td>신용등급이 BBB+인 AJ네트웍스도 회사채 발행을 위해 지난 20일 투자자들을 대상...</td>\n",
       "    </tr>\n",
       "  </tbody>\n",
       "</table>\n",
       "</div>"
      ],
      "text/plain": [
       "              날짜                                          뉴스제목  \\\n",
       "1313  2016-01-04               AJ네트웍스, SKB 등에업고 '고리사채급 위약금 폭탄'   \n",
       "1312  2016-01-05                   AJ네트웍스, 스마트폰, 태블릿PC 렌탈사업 시작   \n",
       "1311  2016-01-06  AJ네트웍스, 스마트폰, 태블릿PC 등 Mobile Device 렌탈 사업 시작   \n",
       "1332  2016-01-13            AJ네트웍스, 파렛트및 고소장비 렌탈 신규 서비스 브랜드 런칭   \n",
       "1335  2016-01-22                   대상·AJ네트웍스 등 비우량채도 잇달아 발행 성공   \n",
       "\n",
       "                                                   뉴스요약  \n",
       "1313  AJ네트웍스가 SK브로드밴드를 통해 진행중인 '스마트렌탈'의 위약금 규정 및 취급상...  \n",
       "1312  국내 IT기기 렌탈의 선두주자인 AJ네트웍스에서 Mobile Device(스마트폰,...  \n",
       "1311  국내 IT기기 렌탈의 선두주자인 AJ네트웍스에서 Mobile Device(스마트폰,...  \n",
       "1332  AJ네트웍스(사장 반채운)가 파렛트와 고소장비 렌탈 부문의 신규 서비스 브랜드를 런...  \n",
       "1335  신용등급이 BBB+인 AJ네트웍스도 회사채 발행을 위해 지난 20일 투자자들을 대상...  "
      ]
     },
     "execution_count": 44,
     "metadata": {},
     "output_type": "execute_result"
    }
   ],
   "source": [
    "df = pd.read_csv('./data/개별기업뉴스_전처리/AJ네트웍스.csv',index_col=0)\n",
    "print(len(df))\n",
    "df.head()"
   ]
  },
  {
   "cell_type": "code",
   "execution_count": 12,
   "id": "5cef2858",
   "metadata": {
    "ExecuteTime": {
     "end_time": "2022-06-09T11:37:38.030714Z",
     "start_time": "2022-06-09T11:37:38.002514Z"
    }
   },
   "outputs": [
    {
     "data": {
      "text/plain": [
       "array([15,  7,  6,  5,  4,  3,  2,  1], dtype=int64)"
      ]
     },
     "execution_count": 12,
     "metadata": {},
     "output_type": "execute_result"
    }
   ],
   "source": [
    "df['날짜'].value_counts().unique()"
   ]
  },
  {
   "cell_type": "code",
   "execution_count": null,
   "id": "2b290224",
   "metadata": {},
   "outputs": [],
   "source": [
    "idx = pd.date_range('2016-01-01','2022-05-30')\n",
    "\n",
    "ser_date = df['날짜'].value_counts().sort_index()\n",
    "\n",
    "ser_date.index = pd.DatetimeIndex(ser_date.index)\n",
    "\n",
    "ser_date = ser_date.reindex(idx, fill_value=0)\n",
    "ser_date"
   ]
  },
  {
   "cell_type": "code",
   "execution_count": 45,
   "id": "1c4d5e8b",
   "metadata": {
    "ExecuteTime": {
     "end_time": "2022-06-09T11:55:45.505549Z",
     "start_time": "2022-06-09T11:55:45.489888Z"
    }
   },
   "outputs": [],
   "source": [
    "def fill_count_date(df ,bgn_date = '2016-01-01',end_date = '2022-03-31'):\n",
    "    \n",
    "    idx = pd.date_range(bgn_date,end_date)\n",
    "\n",
    "    ser_date = df['날짜'].value_counts().sort_index()\n",
    "\n",
    "    ser_date.index = pd.DatetimeIndex(ser_date.index)\n",
    "\n",
    "    ser_date = ser_date.reindex(idx, fill_value=0)\n",
    "    \n",
    "    return ser_date"
   ]
  },
  {
   "cell_type": "code",
   "execution_count": 46,
   "id": "8de67d3c",
   "metadata": {
    "ExecuteTime": {
     "end_time": "2022-06-09T11:55:45.733395Z",
     "start_time": "2022-06-09T11:55:45.701658Z"
    }
   },
   "outputs": [],
   "source": [
    "ser_count = fill_count_date(df)"
   ]
  },
  {
   "cell_type": "code",
   "execution_count": 47,
   "id": "2b5a8cc8",
   "metadata": {
    "ExecuteTime": {
     "end_time": "2022-06-09T11:55:46.060890Z",
     "start_time": "2022-06-09T11:55:45.933077Z"
    }
   },
   "outputs": [
    {
     "data": {
      "text/plain": [
       "[<matplotlib.lines.Line2D at 0x1d9e9453820>]"
      ]
     },
     "execution_count": 47,
     "metadata": {},
     "output_type": "execute_result"
    },
    {
     "data": {
      "image/png": "[encoded data removed]",
      "text/plain": [
       "<Figure size 1080x360 with 1 Axes>"
      ]
     },
     "metadata": {
      "needs_background": "light"
     },
     "output_type": "display_data"
    }
   ],
   "source": [
    "plt.figure(figsize=(15,5))\n",
    "ax = plt.axes()\n",
    "ax.yaxis.set_major_locator(ticker.MultipleLocator(1))\n",
    "plt.plot(ser_count.index, ser_count)"
   ]
  },
  {
   "cell_type": "code",
   "execution_count": null,
   "id": "b70ddb82",
   "metadata": {},
   "outputs": [],
   "source": [
    " "
   ]
  },
  {
   "cell_type": "markdown",
   "id": "cfeb6282",
   "metadata": {},
   "source": [
    "# (1)공시 빈도: 중복제거 x"
   ]
  },
  {
   "cell_type": "code",
   "execution_count": 75,
   "id": "0823f3f9",
   "metadata": {
    "ExecuteTime": {
     "end_time": "2022-06-09T14:31:26.140737Z",
     "start_time": "2022-06-09T14:31:26.126689Z"
    }
   },
   "outputs": [
    {
     "name": "stdout",
     "output_type": "stream",
     "text": [
      "434\n"
     ]
    },
    {
     "data": {
      "text/html": [
       "<div>\n",
       "<style scoped>\n",
       "    .dataframe tbody tr th:only-of-type {\n",
       "        vertical-align: middle;\n",
       "    }\n",
       "\n",
       "    .dataframe tbody tr th {\n",
       "        vertical-align: top;\n",
       "    }\n",
       "\n",
       "    .dataframe thead th {\n",
       "        text-align: right;\n",
       "    }\n",
       "</style>\n",
       "<table border=\"1\" class=\"dataframe\">\n",
       "  <thead>\n",
       "    <tr style=\"text-align: right;\">\n",
       "      <th></th>\n",
       "      <th>날짜</th>\n",
       "      <th>공시회사</th>\n",
       "      <th>공시보고서명</th>\n",
       "    </tr>\n",
       "  </thead>\n",
       "  <tbody>\n",
       "    <tr>\n",
       "      <th>0</th>\n",
       "      <td>2022.05.25</td>\n",
       "      <td>유  AK홀딩스</td>\n",
       "      <td>[기재정정]투자판단관련주요경영사항 (자회사의 주요경영사항)</td>\n",
       "    </tr>\n",
       "    <tr>\n",
       "      <th>1</th>\n",
       "      <td>2022.05.16</td>\n",
       "      <td>유  AK홀딩스</td>\n",
       "      <td>분기보고서 (2022.03)</td>\n",
       "    </tr>\n",
       "    <tr>\n",
       "      <th>2</th>\n",
       "      <td>2022.05.13</td>\n",
       "      <td>유  AK홀딩스</td>\n",
       "      <td>주주총회소집결의</td>\n",
       "    </tr>\n",
       "    <tr>\n",
       "      <th>3</th>\n",
       "      <td>2022.05.04</td>\n",
       "      <td>유  AK홀딩스</td>\n",
       "      <td>주식등의대량보유상황보고서(일반)</td>\n",
       "    </tr>\n",
       "    <tr>\n",
       "      <th>4</th>\n",
       "      <td>2022.04.28</td>\n",
       "      <td>유  AK홀딩스</td>\n",
       "      <td>주식등의대량보유상황보고서(일반)</td>\n",
       "    </tr>\n",
       "  </tbody>\n",
       "</table>\n",
       "</div>"
      ],
      "text/plain": [
       "           날짜      공시회사                            공시보고서명\n",
       "0  2022.05.25  유  AK홀딩스  [기재정정]투자판단관련주요경영사항 (자회사의 주요경영사항)\n",
       "1  2022.05.16  유  AK홀딩스                   분기보고서 (2022.03)\n",
       "2  2022.05.13  유  AK홀딩스                          주주총회소집결의\n",
       "3  2022.05.04  유  AK홀딩스                 주식등의대량보유상황보고서(일반)\n",
       "4  2022.04.28  유  AK홀딩스                 주식등의대량보유상황보고서(일반)"
      ]
     },
     "execution_count": 75,
     "metadata": {},
     "output_type": "execute_result"
    }
   ],
   "source": [
    "df = pd.read_csv('./data/공시_다트크롤링/AK홀딩스.csv',index_col=0)\n",
    "df = df[['접수일자','공시대상회사','보고서명']]\n",
    "df.columns = ['날짜','공시회사','공시보고서명']\n",
    "print(len(df))\n",
    "df.head()"
   ]
  },
  {
   "cell_type": "code",
   "execution_count": 76,
   "id": "5cce5907",
   "metadata": {
    "ExecuteTime": {
     "end_time": "2022-06-09T14:31:26.346551Z",
     "start_time": "2022-06-09T14:31:26.332589Z"
    }
   },
   "outputs": [
    {
     "data": {
      "text/plain": [
       "2019.02.13    6\n",
       "2021.02.15    6\n",
       "2020.03.19    4\n",
       "2020.04.07    4\n",
       "2017.03.16    4\n",
       "             ..\n",
       "2019.08.26    1\n",
       "2019.08.13    1\n",
       "2019.08.09    1\n",
       "2019.07.25    1\n",
       "2016.01.04    1\n",
       "Name: 날짜, Length: 303, dtype: int64"
      ]
     },
     "execution_count": 76,
     "metadata": {},
     "output_type": "execute_result"
    }
   ],
   "source": [
    "df['날짜'].value_counts()"
   ]
  },
  {
   "cell_type": "code",
   "execution_count": 77,
   "id": "294d92a9",
   "metadata": {
    "ExecuteTime": {
     "end_time": "2022-06-09T14:31:26.542903Z",
     "start_time": "2022-06-09T14:31:26.532957Z"
    }
   },
   "outputs": [
    {
     "data": {
      "text/html": [
       "<div>\n",
       "<style scoped>\n",
       "    .dataframe tbody tr th:only-of-type {\n",
       "        vertical-align: middle;\n",
       "    }\n",
       "\n",
       "    .dataframe tbody tr th {\n",
       "        vertical-align: top;\n",
       "    }\n",
       "\n",
       "    .dataframe thead th {\n",
       "        text-align: right;\n",
       "    }\n",
       "</style>\n",
       "<table border=\"1\" class=\"dataframe\">\n",
       "  <thead>\n",
       "    <tr style=\"text-align: right;\">\n",
       "      <th></th>\n",
       "      <th>날짜</th>\n",
       "      <th>공시회사</th>\n",
       "      <th>공시보고서명</th>\n",
       "    </tr>\n",
       "  </thead>\n",
       "  <tbody>\n",
       "    <tr>\n",
       "      <th>0</th>\n",
       "      <td>2022.05.25</td>\n",
       "      <td>유  AK홀딩스</td>\n",
       "      <td>[기재정정]투자판단관련주요경영사항 (자회사의 주요경영사항)</td>\n",
       "    </tr>\n",
       "    <tr>\n",
       "      <th>1</th>\n",
       "      <td>2022.05.16</td>\n",
       "      <td>유  AK홀딩스</td>\n",
       "      <td>분기보고서 (2022.03)</td>\n",
       "    </tr>\n",
       "    <tr>\n",
       "      <th>2</th>\n",
       "      <td>2022.05.13</td>\n",
       "      <td>유  AK홀딩스</td>\n",
       "      <td>주주총회소집결의</td>\n",
       "    </tr>\n",
       "    <tr>\n",
       "      <th>3</th>\n",
       "      <td>2022.05.04</td>\n",
       "      <td>유  AK홀딩스</td>\n",
       "      <td>주식등의대량보유상황보고서(일반)</td>\n",
       "    </tr>\n",
       "    <tr>\n",
       "      <th>4</th>\n",
       "      <td>2022.04.28</td>\n",
       "      <td>유  AK홀딩스</td>\n",
       "      <td>주식등의대량보유상황보고서(일반)</td>\n",
       "    </tr>\n",
       "  </tbody>\n",
       "</table>\n",
       "</div>"
      ],
      "text/plain": [
       "           날짜      공시회사                            공시보고서명\n",
       "0  2022.05.25  유  AK홀딩스  [기재정정]투자판단관련주요경영사항 (자회사의 주요경영사항)\n",
       "1  2022.05.16  유  AK홀딩스                   분기보고서 (2022.03)\n",
       "2  2022.05.13  유  AK홀딩스                          주주총회소집결의\n",
       "3  2022.05.04  유  AK홀딩스                 주식등의대량보유상황보고서(일반)\n",
       "4  2022.04.28  유  AK홀딩스                 주식등의대량보유상황보고서(일반)"
      ]
     },
     "execution_count": 77,
     "metadata": {},
     "output_type": "execute_result"
    }
   ],
   "source": [
    "df.head()"
   ]
  },
  {
   "cell_type": "code",
   "execution_count": 78,
   "id": "a12c61e7",
   "metadata": {
    "ExecuteTime": {
     "end_time": "2022-06-09T14:31:26.722671Z",
     "start_time": "2022-06-09T14:31:26.710703Z"
    }
   },
   "outputs": [
    {
     "data": {
      "text/plain": [
       "2016-01-01    0\n",
       "2016-01-02    0\n",
       "2016-01-03    0\n",
       "2016-01-04    1\n",
       "2016-01-05    0\n",
       "             ..\n",
       "2022-03-27    0\n",
       "2022-03-28    0\n",
       "2022-03-29    3\n",
       "2022-03-30    0\n",
       "2022-03-31    0\n",
       "Freq: D, Name: 날짜, Length: 2282, dtype: int64"
      ]
     },
     "execution_count": 78,
     "metadata": {},
     "output_type": "execute_result"
    }
   ],
   "source": [
    "fill_count_date(df)"
   ]
  },
  {
   "cell_type": "markdown",
   "id": "dc3dbdc9",
   "metadata": {},
   "source": [
    "## 시각화"
   ]
  },
  {
   "cell_type": "code",
   "execution_count": 79,
   "id": "852f021b",
   "metadata": {
    "ExecuteTime": {
     "end_time": "2022-06-09T14:31:27.007168Z",
     "start_time": "2022-06-09T14:31:26.893186Z"
    }
   },
   "outputs": [
    {
     "data": {
      "text/plain": [
       "[<matplotlib.lines.Line2D at 0x1d9f015cca0>]"
      ]
     },
     "execution_count": 79,
     "metadata": {},
     "output_type": "execute_result"
    },
    {
     "data": {
      "image/png": "[encoded data removed]",
      "text/plain": [
       "<Figure size 1080x360 with 1 Axes>"
      ]
     },
     "metadata": {
      "needs_background": "light"
     },
     "output_type": "display_data"
    }
   ],
   "source": [
    "ser_count = fill_count_date(df)\n",
    "plt.figure(figsize=(15,5))\n",
    "ax = plt.axes()\n",
    "ax.yaxis.set_major_locator(ticker.MultipleLocator(1))\n",
    "plt.plot(ser_count.index, ser_count)"
   ]
  },
  {
   "cell_type": "markdown",
   "id": "ea01b3b3",
   "metadata": {},
   "source": [
    "# (2)공시 빈도: 중복제거 "
   ]
  },
  {
   "cell_type": "code",
   "execution_count": 102,
   "id": "08256229",
   "metadata": {
    "ExecuteTime": {
     "end_time": "2022-06-09T15:19:03.733470Z",
     "start_time": "2022-06-09T15:19:03.716260Z"
    }
   },
   "outputs": [
    {
     "data": {
      "text/html": [
       "<div>\n",
       "<style scoped>\n",
       "    .dataframe tbody tr th:only-of-type {\n",
       "        vertical-align: middle;\n",
       "    }\n",
       "\n",
       "    .dataframe tbody tr th {\n",
       "        vertical-align: top;\n",
       "    }\n",
       "\n",
       "    .dataframe thead th {\n",
       "        text-align: right;\n",
       "    }\n",
       "</style>\n",
       "<table border=\"1\" class=\"dataframe\">\n",
       "  <thead>\n",
       "    <tr style=\"text-align: right;\">\n",
       "      <th></th>\n",
       "      <th>번호</th>\n",
       "      <th>공시대상회사</th>\n",
       "      <th>보고서명</th>\n",
       "      <th>제출인</th>\n",
       "      <th>접수일자</th>\n",
       "      <th>비고</th>\n",
       "    </tr>\n",
       "  </thead>\n",
       "  <tbody>\n",
       "    <tr>\n",
       "      <th>0</th>\n",
       "      <td>1</td>\n",
       "      <td>유  AK홀딩스</td>\n",
       "      <td>[기재정정]투자판단관련주요경영사항 (자회사의 주요경영사항)</td>\n",
       "      <td>AK홀딩스</td>\n",
       "      <td>2022.05.25</td>\n",
       "      <td>유</td>\n",
       "    </tr>\n",
       "    <tr>\n",
       "      <th>1</th>\n",
       "      <td>2</td>\n",
       "      <td>유  AK홀딩스</td>\n",
       "      <td>분기보고서 (2022.03)</td>\n",
       "      <td>AK홀딩스</td>\n",
       "      <td>2022.05.16</td>\n",
       "      <td>NaN</td>\n",
       "    </tr>\n",
       "    <tr>\n",
       "      <th>2</th>\n",
       "      <td>3</td>\n",
       "      <td>유  AK홀딩스</td>\n",
       "      <td>주주총회소집결의</td>\n",
       "      <td>AK홀딩스</td>\n",
       "      <td>2022.05.13</td>\n",
       "      <td>유</td>\n",
       "    </tr>\n",
       "    <tr>\n",
       "      <th>3</th>\n",
       "      <td>4</td>\n",
       "      <td>유  AK홀딩스</td>\n",
       "      <td>주식등의대량보유상황보고서(일반)</td>\n",
       "      <td>채형석</td>\n",
       "      <td>2022.05.04</td>\n",
       "      <td>NaN</td>\n",
       "    </tr>\n",
       "    <tr>\n",
       "      <th>4</th>\n",
       "      <td>5</td>\n",
       "      <td>유  AK홀딩스</td>\n",
       "      <td>주식등의대량보유상황보고서(일반)</td>\n",
       "      <td>채형석</td>\n",
       "      <td>2022.04.28</td>\n",
       "      <td>NaN</td>\n",
       "    </tr>\n",
       "  </tbody>\n",
       "</table>\n",
       "</div>"
      ],
      "text/plain": [
       "   번호    공시대상회사                              보고서명    제출인        접수일자   비고\n",
       "0   1  유  AK홀딩스  [기재정정]투자판단관련주요경영사항 (자회사의 주요경영사항)  AK홀딩스  2022.05.25    유\n",
       "1   2  유  AK홀딩스                   분기보고서 (2022.03)  AK홀딩스  2022.05.16  NaN\n",
       "2   3  유  AK홀딩스                          주주총회소집결의  AK홀딩스  2022.05.13    유\n",
       "3   4  유  AK홀딩스                 주식등의대량보유상황보고서(일반)    채형석  2022.05.04  NaN\n",
       "4   5  유  AK홀딩스                 주식등의대량보유상황보고서(일반)    채형석  2022.04.28  NaN"
      ]
     },
     "execution_count": 102,
     "metadata": {},
     "output_type": "execute_result"
    }
   ],
   "source": [
    "df = pd.read_csv('./data/공시_다트크롤링/AK홀딩스.csv',index_col=0)\n",
    "df.head()"
   ]
  },
  {
   "cell_type": "code",
   "execution_count": 103,
   "id": "1c7fe27a",
   "metadata": {
    "ExecuteTime": {
     "end_time": "2022-06-09T15:19:03.918076Z",
     "start_time": "2022-06-09T15:19:03.914089Z"
    }
   },
   "outputs": [],
   "source": [
    "df = df[['접수일자','공시대상회사','보고서명']]\n",
    "df.columns = ['날짜','회사이름','공시보고서명']"
   ]
  },
  {
   "cell_type": "code",
   "execution_count": 106,
   "id": "65c85147",
   "metadata": {
    "ExecuteTime": {
     "end_time": "2022-06-09T15:20:34.236342Z",
     "start_time": "2022-06-09T15:20:34.214736Z"
    }
   },
   "outputs": [
    {
     "data": {
      "text/html": [
       "<div>\n",
       "<style scoped>\n",
       "    .dataframe tbody tr th:only-of-type {\n",
       "        vertical-align: middle;\n",
       "    }\n",
       "\n",
       "    .dataframe tbody tr th {\n",
       "        vertical-align: top;\n",
       "    }\n",
       "\n",
       "    .dataframe thead th {\n",
       "        text-align: right;\n",
       "    }\n",
       "</style>\n",
       "<table border=\"1\" class=\"dataframe\">\n",
       "  <thead>\n",
       "    <tr style=\"text-align: right;\">\n",
       "      <th></th>\n",
       "      <th>날짜</th>\n",
       "      <th>회사이름</th>\n",
       "      <th>공시보고서명</th>\n",
       "    </tr>\n",
       "  </thead>\n",
       "  <tbody>\n",
       "    <tr>\n",
       "      <th>2</th>\n",
       "      <td>2022.03.18</td>\n",
       "      <td>유  AK홀딩스</td>\n",
       "      <td>감사보고서제출 (자회사의 주요경영사항)</td>\n",
       "    </tr>\n",
       "    <tr>\n",
       "      <th>9</th>\n",
       "      <td>2021.12.21</td>\n",
       "      <td>유  AK홀딩스</td>\n",
       "      <td>타인에대한채무보증결정</td>\n",
       "    </tr>\n",
       "    <tr>\n",
       "      <th>7</th>\n",
       "      <td>2021.11.01</td>\n",
       "      <td>유  AK홀딩스</td>\n",
       "      <td>지주회사의자회사탈퇴</td>\n",
       "    </tr>\n",
       "    <tr>\n",
       "      <th>9</th>\n",
       "      <td>2021.07.15</td>\n",
       "      <td>유  AK홀딩스</td>\n",
       "      <td>현금ㆍ현물배당결정 (자회사의 주요경영사항)</td>\n",
       "    </tr>\n",
       "    <tr>\n",
       "      <th>11</th>\n",
       "      <td>2021.03.19</td>\n",
       "      <td>유  AK홀딩스</td>\n",
       "      <td>감사보고서제출 (자회사의 주요경영사항)</td>\n",
       "    </tr>\n",
       "    <tr>\n",
       "      <th>13</th>\n",
       "      <td>2021.03.17</td>\n",
       "      <td>유  AK홀딩스</td>\n",
       "      <td>감사보고서제출 (자회사의 주요경영사항)</td>\n",
       "    </tr>\n",
       "    <tr>\n",
       "      <th>9</th>\n",
       "      <td>2021.02.15</td>\n",
       "      <td>유  AK홀딩스</td>\n",
       "      <td>매출액또는손익구조30%(대규모법인은15%)이상변경 (자회사의 주요경영사항)</td>\n",
       "    </tr>\n",
       "    <tr>\n",
       "      <th>9</th>\n",
       "      <td>2020.12.23</td>\n",
       "      <td>유  AK홀딩스</td>\n",
       "      <td>[기재정정]주요사항보고서(전환사채권발행결정) (자회사의 주요경영사항)</td>\n",
       "    </tr>\n",
       "    <tr>\n",
       "      <th>2</th>\n",
       "      <td>2020.11.20</td>\n",
       "      <td>유  AK홀딩스</td>\n",
       "      <td>타인에대한채무보증결정</td>\n",
       "    </tr>\n",
       "    <tr>\n",
       "      <th>9</th>\n",
       "      <td>2020.09.11</td>\n",
       "      <td>유  AK홀딩스</td>\n",
       "      <td>임원ㆍ주요주주특정증권등소유상황보고서</td>\n",
       "    </tr>\n",
       "    <tr>\n",
       "      <th>5</th>\n",
       "      <td>2020.05.11</td>\n",
       "      <td>유  AK홀딩스</td>\n",
       "      <td>회사합병결정(자율공시)(종속회사의주요경영사항)</td>\n",
       "    </tr>\n",
       "    <tr>\n",
       "      <th>7</th>\n",
       "      <td>2020.05.06</td>\n",
       "      <td>유  AK홀딩스</td>\n",
       "      <td>특수관계인에대한담보제공</td>\n",
       "    </tr>\n",
       "    <tr>\n",
       "      <th>12</th>\n",
       "      <td>2020.04.07</td>\n",
       "      <td>유  AK홀딩스</td>\n",
       "      <td>특수관계인에대한담보제공</td>\n",
       "    </tr>\n",
       "    <tr>\n",
       "      <th>13</th>\n",
       "      <td>2020.04.07</td>\n",
       "      <td>유  AK홀딩스</td>\n",
       "      <td>특수관계인에대한담보제공</td>\n",
       "    </tr>\n",
       "    <tr>\n",
       "      <th>14</th>\n",
       "      <td>2020.04.07</td>\n",
       "      <td>유  AK홀딩스</td>\n",
       "      <td>특수관계인에대한담보제공</td>\n",
       "    </tr>\n",
       "    <tr>\n",
       "      <th>9</th>\n",
       "      <td>2020.03.19</td>\n",
       "      <td>유  AK홀딩스</td>\n",
       "      <td>감사보고서제출 (자회사의 주요경영사항)</td>\n",
       "    </tr>\n",
       "    <tr>\n",
       "      <th>10</th>\n",
       "      <td>2020.03.19</td>\n",
       "      <td>유  AK홀딩스</td>\n",
       "      <td>감사보고서제출 (자회사의 주요경영사항)</td>\n",
       "    </tr>\n",
       "    <tr>\n",
       "      <th>11</th>\n",
       "      <td>2020.03.19</td>\n",
       "      <td>유  AK홀딩스</td>\n",
       "      <td>감사보고서제출 (자회사의 주요경영사항)</td>\n",
       "    </tr>\n",
       "    <tr>\n",
       "      <th>7</th>\n",
       "      <td>2018.03.23</td>\n",
       "      <td>유  AK홀딩스</td>\n",
       "      <td>사외이사의선임ㆍ해임또는중도퇴임에관한신고</td>\n",
       "    </tr>\n",
       "    <tr>\n",
       "      <th>10</th>\n",
       "      <td>2018.03.20</td>\n",
       "      <td>유  AK홀딩스</td>\n",
       "      <td>감사보고서제출 (자회사의 주요경영사항)</td>\n",
       "    </tr>\n",
       "    <tr>\n",
       "      <th>11</th>\n",
       "      <td>2018.03.20</td>\n",
       "      <td>유  AK홀딩스</td>\n",
       "      <td>감사보고서제출 (자회사의 주요경영사항)</td>\n",
       "    </tr>\n",
       "    <tr>\n",
       "      <th>13</th>\n",
       "      <td>2017.03.20</td>\n",
       "      <td>유  AK홀딩스</td>\n",
       "      <td>감사보고서제출 (자회사의 주요경영사항)</td>\n",
       "    </tr>\n",
       "  </tbody>\n",
       "</table>\n",
       "</div>"
      ],
      "text/plain": [
       "            날짜      회사이름                                     공시보고서명\n",
       "2   2022.03.18  유  AK홀딩스                      감사보고서제출 (자회사의 주요경영사항)\n",
       "9   2021.12.21  유  AK홀딩스                                타인에대한채무보증결정\n",
       "7   2021.11.01  유  AK홀딩스                                 지주회사의자회사탈퇴\n",
       "9   2021.07.15  유  AK홀딩스                    현금ㆍ현물배당결정 (자회사의 주요경영사항)\n",
       "11  2021.03.19  유  AK홀딩스                      감사보고서제출 (자회사의 주요경영사항)\n",
       "13  2021.03.17  유  AK홀딩스                      감사보고서제출 (자회사의 주요경영사항)\n",
       "9   2021.02.15  유  AK홀딩스  매출액또는손익구조30%(대규모법인은15%)이상변경 (자회사의 주요경영사항)\n",
       "9   2020.12.23  유  AK홀딩스     [기재정정]주요사항보고서(전환사채권발행결정) (자회사의 주요경영사항)\n",
       "2   2020.11.20  유  AK홀딩스                                타인에대한채무보증결정\n",
       "9   2020.09.11  유  AK홀딩스                        임원ㆍ주요주주특정증권등소유상황보고서\n",
       "5   2020.05.11  유  AK홀딩스                  회사합병결정(자율공시)(종속회사의주요경영사항)\n",
       "7   2020.05.06  유  AK홀딩스                               특수관계인에대한담보제공\n",
       "12  2020.04.07  유  AK홀딩스                               특수관계인에대한담보제공\n",
       "13  2020.04.07  유  AK홀딩스                               특수관계인에대한담보제공\n",
       "14  2020.04.07  유  AK홀딩스                               특수관계인에대한담보제공\n",
       "9   2020.03.19  유  AK홀딩스                      감사보고서제출 (자회사의 주요경영사항)\n",
       "10  2020.03.19  유  AK홀딩스                      감사보고서제출 (자회사의 주요경영사항)\n",
       "11  2020.03.19  유  AK홀딩스                      감사보고서제출 (자회사의 주요경영사항)\n",
       "7   2018.03.23  유  AK홀딩스                      사외이사의선임ㆍ해임또는중도퇴임에관한신고\n",
       "10  2018.03.20  유  AK홀딩스                      감사보고서제출 (자회사의 주요경영사항)\n",
       "11  2018.03.20  유  AK홀딩스                      감사보고서제출 (자회사의 주요경영사항)\n",
       "13  2017.03.20  유  AK홀딩스                      감사보고서제출 (자회사의 주요경영사항)"
      ]
     },
     "execution_count": 106,
     "metadata": {},
     "output_type": "execute_result"
    }
   ],
   "source": [
    "df[df.duplicated()]"
   ]
  },
  {
   "cell_type": "code",
   "execution_count": 107,
   "id": "0f9efe08",
   "metadata": {
    "ExecuteTime": {
     "end_time": "2022-06-09T15:20:43.745945Z",
     "start_time": "2022-06-09T15:20:43.734976Z"
    }
   },
   "outputs": [
    {
     "data": {
      "text/html": [
       "<div>\n",
       "<style scoped>\n",
       "    .dataframe tbody tr th:only-of-type {\n",
       "        vertical-align: middle;\n",
       "    }\n",
       "\n",
       "    .dataframe tbody tr th {\n",
       "        vertical-align: top;\n",
       "    }\n",
       "\n",
       "    .dataframe thead th {\n",
       "        text-align: right;\n",
       "    }\n",
       "</style>\n",
       "<table border=\"1\" class=\"dataframe\">\n",
       "  <thead>\n",
       "    <tr style=\"text-align: right;\">\n",
       "      <th></th>\n",
       "      <th>날짜</th>\n",
       "      <th>회사이름</th>\n",
       "      <th>공시보고서명</th>\n",
       "    </tr>\n",
       "  </thead>\n",
       "  <tbody>\n",
       "    <tr>\n",
       "      <th>1</th>\n",
       "      <td>2022.03.18</td>\n",
       "      <td>유  AK홀딩스</td>\n",
       "      <td>감사보고서제출 (자회사의 주요경영사항)</td>\n",
       "    </tr>\n",
       "    <tr>\n",
       "      <th>2</th>\n",
       "      <td>2022.03.18</td>\n",
       "      <td>유  AK홀딩스</td>\n",
       "      <td>감사보고서제출 (자회사의 주요경영사항)</td>\n",
       "    </tr>\n",
       "  </tbody>\n",
       "</table>\n",
       "</div>"
      ],
      "text/plain": [
       "           날짜      회사이름                 공시보고서명\n",
       "1  2022.03.18  유  AK홀딩스  감사보고서제출 (자회사의 주요경영사항)\n",
       "2  2022.03.18  유  AK홀딩스  감사보고서제출 (자회사의 주요경영사항)"
      ]
     },
     "execution_count": 107,
     "metadata": {},
     "output_type": "execute_result"
    }
   ],
   "source": [
    "df[df['날짜']=='2022.03.18']"
   ]
  },
  {
   "cell_type": "code",
   "execution_count": 83,
   "id": "8835be53",
   "metadata": {
    "ExecuteTime": {
     "end_time": "2022-06-09T14:31:30.749858Z",
     "start_time": "2022-06-09T14:31:30.741862Z"
    }
   },
   "outputs": [
    {
     "data": {
      "text/plain": [
       "2016-01-01    0\n",
       "2016-01-02    0\n",
       "2016-01-03    0\n",
       "2016-01-04    0\n",
       "2016-01-05    0\n",
       "             ..\n",
       "2022-03-27    0\n",
       "2022-03-28    0\n",
       "2022-03-29    2\n",
       "2022-03-30    0\n",
       "2022-03-31    0\n",
       "Freq: D, Name: 날짜, Length: 2282, dtype: int64"
      ]
     },
     "execution_count": 83,
     "metadata": {},
     "output_type": "execute_result"
    }
   ],
   "source": [
    "fill_count_date(df)"
   ]
  },
  {
   "cell_type": "markdown",
   "id": "d0c6e355",
   "metadata": {},
   "source": [
    "## 시각화"
   ]
  },
  {
   "cell_type": "code",
   "execution_count": 84,
   "id": "433e3cec",
   "metadata": {
    "ExecuteTime": {
     "end_time": "2022-06-09T14:31:31.028638Z",
     "start_time": "2022-06-09T14:31:30.924522Z"
    }
   },
   "outputs": [
    {
     "data": {
      "text/plain": [
       "[<matplotlib.lines.Line2D at 0x1d9f0252670>]"
      ]
     },
     "execution_count": 84,
     "metadata": {},
     "output_type": "execute_result"
    },
    {
     "data": {
      "image/png": "[encoded data removed]",
      "text/plain": [
       "<Figure size 1080x360 with 1 Axes>"
      ]
     },
     "metadata": {
      "needs_background": "light"
     },
     "output_type": "display_data"
    }
   ],
   "source": [
    "ser_count = fill_count_date(df)\n",
    "plt.figure(figsize=(15,5))\n",
    "ax = plt.axes()\n",
    "ax.yaxis.set_major_locator(ticker.MultipleLocator(1))\n",
    "plt.plot(ser_count.index, ser_count)"
   ]
  },
  {
   "cell_type": "code",
   "execution_count": null,
   "id": "b97f9c6f",
   "metadata": {},
   "outputs": [],
   "source": []
  },
  {
   "cell_type": "markdown",
   "id": "676dfe87",
   "metadata": {},
   "source": [
    "# 합친코드: 뉴스빈도, 공시빈도1, 공시빈도2(중복제거)"
   ]
  },
  {
   "cell_type": "code",
   "execution_count": 124,
   "id": "2b9e7cde",
   "metadata": {
    "ExecuteTime": {
     "end_time": "2022-06-10T03:46:08.164863Z",
     "start_time": "2022-06-10T03:46:08.156884Z"
    }
   },
   "outputs": [],
   "source": [
    "def fill_count_date(df ,bgn_date = '2016-01-01',end_date = '2022-03-31'):\n",
    "    idx = pd.date_range(bgn_date,end_date)\n",
    "    ser_date = df['날짜'].value_counts().sort_index()\n",
    "    ser_date.index = pd.DatetimeIndex(ser_date.index)\n",
    "    ser_date = ser_date.reindex(idx, fill_value=0)\n",
    "    return ser_date"
   ]
  },
  {
   "cell_type": "code",
   "execution_count": 125,
   "id": "1dc9e560",
   "metadata": {
    "ExecuteTime": {
     "end_time": "2022-06-10T03:46:09.787271Z",
     "start_time": "2022-06-10T03:46:09.755756Z"
    }
   },
   "outputs": [
    {
     "data": {
      "text/html": [
       "<div>\n",
       "<style scoped>\n",
       "    .dataframe tbody tr th:only-of-type {\n",
       "        vertical-align: middle;\n",
       "    }\n",
       "\n",
       "    .dataframe tbody tr th {\n",
       "        vertical-align: top;\n",
       "    }\n",
       "\n",
       "    .dataframe thead th {\n",
       "        text-align: right;\n",
       "    }\n",
       "</style>\n",
       "<table border=\"1\" class=\"dataframe\">\n",
       "  <thead>\n",
       "    <tr style=\"text-align: right;\">\n",
       "      <th></th>\n",
       "      <th>뉴스빈도</th>\n",
       "    </tr>\n",
       "  </thead>\n",
       "  <tbody>\n",
       "    <tr>\n",
       "      <th>2016-01-01</th>\n",
       "      <td>0</td>\n",
       "    </tr>\n",
       "    <tr>\n",
       "      <th>2016-01-02</th>\n",
       "      <td>0</td>\n",
       "    </tr>\n",
       "    <tr>\n",
       "      <th>2016-01-03</th>\n",
       "      <td>0</td>\n",
       "    </tr>\n",
       "    <tr>\n",
       "      <th>2016-01-04</th>\n",
       "      <td>1</td>\n",
       "    </tr>\n",
       "    <tr>\n",
       "      <th>2016-01-05</th>\n",
       "      <td>1</td>\n",
       "    </tr>\n",
       "  </tbody>\n",
       "</table>\n",
       "</div>"
      ],
      "text/plain": [
       "            뉴스빈도\n",
       "2016-01-01     0\n",
       "2016-01-02     0\n",
       "2016-01-03     0\n",
       "2016-01-04     1\n",
       "2016-01-05     1"
      ]
     },
     "execution_count": 125,
     "metadata": {},
     "output_type": "execute_result"
    }
   ],
   "source": [
    "# 뉴스\n",
    "df = pd.read_csv('./data/개별기업뉴스_전처리/AJ네트웍스.csv',index_col=0)\n",
    "df_news = fill_count_date(df).to_frame()\n",
    "df_news.columns=['뉴스빈도']\n",
    "df_news.head()"
   ]
  },
  {
   "cell_type": "code",
   "execution_count": null,
   "id": "602e0d47",
   "metadata": {},
   "outputs": [],
   "source": [
    "for file in file_list_n[:1]:\n",
    "    corp_name_n = file[:-4]\n",
    "    \n",
    "    file_path_n = os.path.join(path,file)\n",
    "\n",
    "    df_n = pd.read_csv(file_path_n,index_col=0)\n",
    "    \n",
    "    # 뉴스빈도\n",
    "    df_news = fill_count_date(df_n).to_frame()\n",
    "    df_news.columns=['뉴스빈도']"
   ]
  },
  {
   "cell_type": "code",
   "execution_count": null,
   "id": "345885fe",
   "metadata": {},
   "outputs": [],
   "source": []
  },
  {
   "cell_type": "code",
   "execution_count": null,
   "id": "8a6c2988",
   "metadata": {},
   "outputs": [],
   "source": []
  },
  {
   "cell_type": "code",
   "execution_count": 115,
   "id": "3bf7b03a",
   "metadata": {
    "ExecuteTime": {
     "end_time": "2022-06-09T15:28:28.155603Z",
     "start_time": "2022-06-09T15:28:28.131578Z"
    }
   },
   "outputs": [
    {
     "data": {
      "text/html": [
       "<div>\n",
       "<style scoped>\n",
       "    .dataframe tbody tr th:only-of-type {\n",
       "        vertical-align: middle;\n",
       "    }\n",
       "\n",
       "    .dataframe tbody tr th {\n",
       "        vertical-align: top;\n",
       "    }\n",
       "\n",
       "    .dataframe thead th {\n",
       "        text-align: right;\n",
       "    }\n",
       "</style>\n",
       "<table border=\"1\" class=\"dataframe\">\n",
       "  <thead>\n",
       "    <tr style=\"text-align: right;\">\n",
       "      <th></th>\n",
       "      <th>공시빈도</th>\n",
       "      <th>공시빈도(중복제거)</th>\n",
       "    </tr>\n",
       "  </thead>\n",
       "  <tbody>\n",
       "    <tr>\n",
       "      <th>2016-01-01</th>\n",
       "      <td>0</td>\n",
       "      <td>0</td>\n",
       "    </tr>\n",
       "    <tr>\n",
       "      <th>2016-01-02</th>\n",
       "      <td>0</td>\n",
       "      <td>0</td>\n",
       "    </tr>\n",
       "    <tr>\n",
       "      <th>2016-01-03</th>\n",
       "      <td>0</td>\n",
       "      <td>0</td>\n",
       "    </tr>\n",
       "    <tr>\n",
       "      <th>2016-01-04</th>\n",
       "      <td>1</td>\n",
       "      <td>1</td>\n",
       "    </tr>\n",
       "    <tr>\n",
       "      <th>2016-01-05</th>\n",
       "      <td>0</td>\n",
       "      <td>0</td>\n",
       "    </tr>\n",
       "    <tr>\n",
       "      <th>...</th>\n",
       "      <td>...</td>\n",
       "      <td>...</td>\n",
       "    </tr>\n",
       "    <tr>\n",
       "      <th>2022-03-27</th>\n",
       "      <td>0</td>\n",
       "      <td>0</td>\n",
       "    </tr>\n",
       "    <tr>\n",
       "      <th>2022-03-28</th>\n",
       "      <td>0</td>\n",
       "      <td>0</td>\n",
       "    </tr>\n",
       "    <tr>\n",
       "      <th>2022-03-29</th>\n",
       "      <td>3</td>\n",
       "      <td>3</td>\n",
       "    </tr>\n",
       "    <tr>\n",
       "      <th>2022-03-30</th>\n",
       "      <td>0</td>\n",
       "      <td>0</td>\n",
       "    </tr>\n",
       "    <tr>\n",
       "      <th>2022-03-31</th>\n",
       "      <td>0</td>\n",
       "      <td>0</td>\n",
       "    </tr>\n",
       "  </tbody>\n",
       "</table>\n",
       "<p>2282 rows × 2 columns</p>\n",
       "</div>"
      ],
      "text/plain": [
       "            공시빈도  공시빈도(중복제거)\n",
       "2016-01-01     0           0\n",
       "2016-01-02     0           0\n",
       "2016-01-03     0           0\n",
       "2016-01-04     1           1\n",
       "2016-01-05     0           0\n",
       "...          ...         ...\n",
       "2022-03-27     0           0\n",
       "2022-03-28     0           0\n",
       "2022-03-29     3           3\n",
       "2022-03-30     0           0\n",
       "2022-03-31     0           0\n",
       "\n",
       "[2282 rows x 2 columns]"
      ]
     },
     "execution_count": 115,
     "metadata": {},
     "output_type": "execute_result"
    }
   ],
   "source": [
    "# 공시1\n",
    "df = pd.read_csv('./data/공시_다트크롤링/AK홀딩스.csv',index_col=0)\n",
    "df = df[['접수일자','공시대상회사','보고서명']]\n",
    "df.columns = ['날짜','공시회사','공시보고서명']\n",
    "df_count1 = fill_count_date(df).to_frame()\n",
    "# 공시2 중복제거\n",
    "df.drop_duplicates(inplace = True)\n",
    "df_count2 = fill_count_date(df).to_frame()\n",
    "# 합치기\n",
    "df_a = pd.concat([df_count1,df_count2],axis=1)\n",
    "df_a.columns = ['공시빈도','공시빈도(중복제거)']\n",
    "df_a"
   ]
  },
  {
   "cell_type": "code",
   "execution_count": 112,
   "id": "8c9509bd",
   "metadata": {
    "ExecuteTime": {
     "end_time": "2022-06-09T15:26:45.620965Z",
     "start_time": "2022-06-09T15:26:45.599739Z"
    }
   },
   "outputs": [
    {
     "data": {
      "text/plain": [
       "공시횟수          4\n",
       "공시횟수(중복제거)    1\n",
       "Name: 2020-04-07 00:00:00, dtype: int64"
      ]
     },
     "execution_count": 112,
     "metadata": {},
     "output_type": "execute_result"
    }
   ],
   "source": [
    "df_a.loc['2020.04.07']"
   ]
  },
  {
   "cell_type": "code",
   "execution_count": 116,
   "id": "d5f82565",
   "metadata": {
    "ExecuteTime": {
     "end_time": "2022-06-09T15:29:28.280578Z",
     "start_time": "2022-06-09T15:29:28.256492Z"
    }
   },
   "outputs": [
    {
     "data": {
      "text/html": [
       "<div>\n",
       "<style scoped>\n",
       "    .dataframe tbody tr th:only-of-type {\n",
       "        vertical-align: middle;\n",
       "    }\n",
       "\n",
       "    .dataframe tbody tr th {\n",
       "        vertical-align: top;\n",
       "    }\n",
       "\n",
       "    .dataframe thead th {\n",
       "        text-align: right;\n",
       "    }\n",
       "</style>\n",
       "<table border=\"1\" class=\"dataframe\">\n",
       "  <thead>\n",
       "    <tr style=\"text-align: right;\">\n",
       "      <th></th>\n",
       "      <th>뉴스빈도</th>\n",
       "      <th>공시빈도</th>\n",
       "      <th>공시빈도(중복제거)</th>\n",
       "    </tr>\n",
       "  </thead>\n",
       "  <tbody>\n",
       "    <tr>\n",
       "      <th>2016-01-01</th>\n",
       "      <td>0</td>\n",
       "      <td>0</td>\n",
       "      <td>0</td>\n",
       "    </tr>\n",
       "    <tr>\n",
       "      <th>2016-01-02</th>\n",
       "      <td>0</td>\n",
       "      <td>0</td>\n",
       "      <td>0</td>\n",
       "    </tr>\n",
       "    <tr>\n",
       "      <th>2016-01-03</th>\n",
       "      <td>0</td>\n",
       "      <td>0</td>\n",
       "      <td>0</td>\n",
       "    </tr>\n",
       "    <tr>\n",
       "      <th>2016-01-04</th>\n",
       "      <td>1</td>\n",
       "      <td>1</td>\n",
       "      <td>1</td>\n",
       "    </tr>\n",
       "    <tr>\n",
       "      <th>2016-01-05</th>\n",
       "      <td>1</td>\n",
       "      <td>0</td>\n",
       "      <td>0</td>\n",
       "    </tr>\n",
       "    <tr>\n",
       "      <th>...</th>\n",
       "      <td>...</td>\n",
       "      <td>...</td>\n",
       "      <td>...</td>\n",
       "    </tr>\n",
       "    <tr>\n",
       "      <th>2022-03-27</th>\n",
       "      <td>0</td>\n",
       "      <td>0</td>\n",
       "      <td>0</td>\n",
       "    </tr>\n",
       "    <tr>\n",
       "      <th>2022-03-28</th>\n",
       "      <td>0</td>\n",
       "      <td>0</td>\n",
       "      <td>0</td>\n",
       "    </tr>\n",
       "    <tr>\n",
       "      <th>2022-03-29</th>\n",
       "      <td>0</td>\n",
       "      <td>3</td>\n",
       "      <td>3</td>\n",
       "    </tr>\n",
       "    <tr>\n",
       "      <th>2022-03-30</th>\n",
       "      <td>0</td>\n",
       "      <td>0</td>\n",
       "      <td>0</td>\n",
       "    </tr>\n",
       "    <tr>\n",
       "      <th>2022-03-31</th>\n",
       "      <td>0</td>\n",
       "      <td>0</td>\n",
       "      <td>0</td>\n",
       "    </tr>\n",
       "  </tbody>\n",
       "</table>\n",
       "<p>2282 rows × 3 columns</p>\n",
       "</div>"
      ],
      "text/plain": [
       "            뉴스빈도  공시빈도  공시빈도(중복제거)\n",
       "2016-01-01     0     0           0\n",
       "2016-01-02     0     0           0\n",
       "2016-01-03     0     0           0\n",
       "2016-01-04     1     1           1\n",
       "2016-01-05     1     0           0\n",
       "...          ...   ...         ...\n",
       "2022-03-27     0     0           0\n",
       "2022-03-28     0     0           0\n",
       "2022-03-29     0     3           3\n",
       "2022-03-30     0     0           0\n",
       "2022-03-31     0     0           0\n",
       "\n",
       "[2282 rows x 3 columns]"
      ]
     },
     "execution_count": 116,
     "metadata": {},
     "output_type": "execute_result"
    }
   ],
   "source": [
    "# 뉴스 공시 모두 합치기\n",
    "df_count = pd.concat([df_news,df_a],axis=1)\n",
    "df_count"
   ]
  },
  {
   "cell_type": "markdown",
   "id": "f047af6c",
   "metadata": {},
   "source": [
    "# (완성)모든파일 뉴스,공시빈도 데이터 만들기"
   ]
  },
  {
   "cell_type": "code",
   "execution_count": 119,
   "id": "654270bb",
   "metadata": {
    "ExecuteTime": {
     "end_time": "2022-06-10T00:43:18.234888Z",
     "start_time": "2022-06-10T00:43:18.218930Z"
    }
   },
   "outputs": [],
   "source": [
    "def fill_count_date(df ,bgn_date = '2016-01-01',end_date = '2022-03-31'):\n",
    "    idx = pd.date_range(bgn_date,end_date)\n",
    "    ser_date = df['날짜'].value_counts().sort_index()\n",
    "    ser_date.index = pd.DatetimeIndex(ser_date.index)\n",
    "    ser_date = ser_date.reindex(idx, fill_value=0)\n",
    "    return ser_date"
   ]
  },
  {
   "cell_type": "code",
   "execution_count": 118,
   "id": "5793e408",
   "metadata": {
    "ExecuteTime": {
     "end_time": "2022-06-10T00:41:53.867239Z",
     "start_time": "2022-06-10T00:41:53.851282Z"
    }
   },
   "outputs": [],
   "source": [
    "# 뉴스\n",
    "path = './data/개별기업뉴스_전처리/'\n",
    "file_list = os.listdir(path)"
   ]
  },
  {
   "cell_type": "code",
   "execution_count": 143,
   "id": "1f2b1148",
   "metadata": {
    "ExecuteTime": {
     "end_time": "2022-06-10T04:12:39.766589Z",
     "start_time": "2022-06-10T04:12:11.309856Z"
    },
    "scrolled": true
   },
   "outputs": [],
   "source": [
    "\n",
    "# 뉴스\n",
    "path_n = './data/개별기업뉴스_전처리/'\n",
    "file_list_n = os.listdir(path_n)\n",
    "\n",
    "# 기업 820개\n",
    "for file in file_list_n[:]:\n",
    "    corp_name_n = file[:-4]\n",
    "    \n",
    "    file_path_n = os.path.join(path_n,file)\n",
    "\n",
    "    df_n = pd.read_csv(file_path_n,index_col=0)\n",
    "    \n",
    "    # 뉴스빈도\n",
    "    df_news = fill_count_date(df_n).to_frame()\n",
    "    df_news.columns=['뉴스빈도']\n",
    "\n",
    "\n",
    "    # 공시파일\n",
    "    path_a = './data/공시_다트크롤링/'\n",
    "    file_list_a = os.listdir(path_a)\n",
    "    \n",
    "    # 공시회사 820개\n",
    "    for file_a in file_list_a:\n",
    "        corp_name_a = file_a[:-4]\n",
    "        if corp_name_a == corp_name_n: \n",
    "            file_path_a = os.path.join(path_a,file_a)\n",
    "            df_a = pd.read_csv(file_path_a,index_col=0)\n",
    "            df_a = df_a[['접수일자','공시대상회사','보고서명']]\n",
    "            df_a.columns = ['날짜','공시회사','공시보고서명']\n",
    "\n",
    "            # 공시1\n",
    "            df_count1 = fill_count_date(df_a).to_frame()\n",
    "            # 공시2 중복제거\n",
    "            df_a.drop_duplicates(inplace = True)\n",
    "            df_count2 = fill_count_date(df_a).to_frame()\n",
    "\n",
    "            # 합치기\n",
    "            df_an = pd.concat([df_count1,df_count2],axis=1)\n",
    "            df_an.columns = ['공시빈도','공시빈도(중복제거)']\n",
    "            \n",
    "            break\n",
    "            \n",
    "    # 뉴스 공시 둘다 합치기\n",
    "    df_total = pd.concat([df_news,df_an],axis=1)\n",
    "    df_total.to_csv('./data/뉴스공시빈도데이터/{}.csv'.format(corp_name_n))\n",
    "\n",
    "    "
   ]
  },
  {
   "cell_type": "code",
   "execution_count": 135,
   "id": "9f736e63",
   "metadata": {
    "ExecuteTime": {
     "end_time": "2022-06-10T04:01:02.983493Z",
     "start_time": "2022-06-10T04:01:02.973522Z"
    }
   },
   "outputs": [
    {
     "data": {
      "text/plain": [
       "'흥아해운'"
      ]
     },
     "execution_count": 135,
     "metadata": {},
     "output_type": "execute_result"
    }
   ],
   "source": [
    "corp_name_n"
   ]
  },
  {
   "cell_type": "code",
   "execution_count": 136,
   "id": "3573f19c",
   "metadata": {
    "ExecuteTime": {
     "end_time": "2022-06-10T04:01:12.393891Z",
     "start_time": "2022-06-10T04:01:12.381950Z"
    }
   },
   "outputs": [
    {
     "data": {
      "text/plain": [
       "'AJ네트웍스'"
      ]
     },
     "execution_count": 136,
     "metadata": {},
     "output_type": "execute_result"
    }
   ],
   "source": [
    "corp_name_a"
   ]
  },
  {
   "cell_type": "code",
   "execution_count": 142,
   "id": "09df285a",
   "metadata": {
    "ExecuteTime": {
     "end_time": "2022-06-10T04:10:44.979240Z",
     "start_time": "2022-06-10T04:10:44.973283Z"
    }
   },
   "outputs": [
    {
     "data": {
      "text/plain": [
       "820"
      ]
     },
     "execution_count": 142,
     "metadata": {},
     "output_type": "execute_result"
    }
   ],
   "source": [
    "len(file_list_n)"
   ]
  }
 ],
 "metadata": {
  "kernelspec": {
   "display_name": "Python 3 (ipykernel)",
   "language": "python",
   "name": "python3"
  },
  "language_info": {
   "codemirror_mode": {
    "name": "ipython",
    "version": 3
   },
   "file_extension": ".py",
   "mimetype": "text/x-python",
   "name": "python",
   "nbconvert_exporter": "python",
   "pygments_lexer": "ipython3",
   "version": "3.9.7"
  },
  "toc": {
   "base_numbering": 1,
   "nav_menu": {},
   "number_sections": true,
   "sideBar": true,
   "skip_h1_title": false,
   "title_cell": "Table of Contents",
   "title_sidebar": "Contents",
   "toc_cell": false,
   "toc_position": {
    "height": "calc(100% - 180px)",
    "left": "10px",
    "top": "150px",
    "width": "384px"
   },
   "toc_section_display": true,
   "toc_window_display": true
  },
  "varInspector": {
   "cols": {
    "lenName": 16,
    "lenType": 16,
    "lenVar": 40
   },
   "kernels_config": {
    "python": {
     "delete_cmd_postfix": "",
     "delete_cmd_prefix": "del ",
     "library": "var_list.py",
     "varRefreshCmd": "print(var_dic_list())"
    },
    "r": {
     "delete_cmd_postfix": ") ",
     "delete_cmd_prefix": "rm(",
     "library": "var_list.r",
     "varRefreshCmd": "cat(var_dic_list()) "
    }
   },
   "types_to_exclude": [
    "module",
    "function",
    "builtin_function_or_method",
    "instance",
    "_Feature"
   ],
   "window_display": false
  }
 },
 "nbformat": 4,
 "nbformat_minor": 5
}
