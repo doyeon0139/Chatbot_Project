{
 "cells": [
  {
   "cell_type": "code",
   "execution_count": 45,
   "id": "d2345b2a",
   "metadata": {},
   "outputs": [
    {
     "name": "stdout",
     "output_type": "stream",
     "text": [
      "None\n",
      "None\n",
      "None\n"
     ]
    }
   ],
   "source": [
    "import dart_fss as dart\n",
    "\n",
    "# Open DART API KEY 설정\n",
    "api_key='9ca2f170725d735b634acb1e71338844eaf45a5e'\n",
    "dart.set_api_key(api_key=api_key)\n",
    "\n",
    "# DART 에 공시된 회사 리스트 불러오기\n",
    "corp_list = dart.get_corp_list()\n",
    "\n",
    "for code in range(len(kospi_df))[:3]:\n",
    "    # 삼성전자 검색\n",
    "#     print(kospi_df.iloc[code, 0])\n",
    "    samsung = corp_list.find_by_corp_code(kospi_df.iloc[code, 0])\n",
    "    print(samsung)\n",
    "\n",
    "\n",
    "    # 2012년부터 연간 연결재무제표 불러오기\n",
    "    fs = samsung.extract_fs(bgn_de='20120101', cumulative=True, report_tp='quarter')\n",
    "    \n",
    "    stock_code = kospi_df.iloc[code, 2]\n",
    "    # 재무제표 검색 결과를 엑셀파일로 저장 ( 기본저장위치: 실행폴더/fsdata )\n",
    "    fs.save(f'C:/Users/bitcamp/Desktop/final_data/{stock_code}.xls')"
   ]
  },
  {
   "cell_type": "code",
   "execution_count": 1,
   "id": "f7d2f3eb",
   "metadata": {},
   "outputs": [],
   "source": [
    "import pandas as pd\n",
    "import numpy as np\n",
    "import warnings\n",
    "warnings.filterwarnings('ignore')"
   ]
  },
  {
   "cell_type": "code",
   "execution_count": 2,
   "id": "f28c849d",
   "metadata": {
    "scrolled": true
   },
   "outputs": [
    {
     "data": {
      "text/html": [
       "<div>\n",
       "<style scoped>\n",
       "    .dataframe tbody tr th:only-of-type {\n",
       "        vertical-align: middle;\n",
       "    }\n",
       "\n",
       "    .dataframe tbody tr th {\n",
       "        vertical-align: top;\n",
       "    }\n",
       "\n",
       "    .dataframe thead th {\n",
       "        text-align: right;\n",
       "    }\n",
       "</style>\n",
       "<table border=\"1\" class=\"dataframe\">\n",
       "  <thead>\n",
       "    <tr style=\"text-align: right;\">\n",
       "      <th></th>\n",
       "      <th>corp_code</th>\n",
       "      <th>corp_name</th>\n",
       "      <th>stock_code</th>\n",
       "      <th>modify_date</th>\n",
       "      <th>Symbol</th>\n",
       "      <th>Market</th>\n",
       "      <th>Name</th>\n",
       "      <th>Sector</th>\n",
       "      <th>Industry</th>\n",
       "      <th>ListingDate</th>\n",
       "      <th>SettleMonth</th>\n",
       "      <th>Representative</th>\n",
       "      <th>HomePage</th>\n",
       "      <th>Region</th>\n",
       "    </tr>\n",
       "  </thead>\n",
       "  <tbody>\n",
       "    <tr>\n",
       "      <th>0</th>\n",
       "      <td>960641</td>\n",
       "      <td>한국패러랠</td>\n",
       "      <td>168490</td>\n",
       "      <td>20190116</td>\n",
       "      <td>168490</td>\n",
       "      <td>KOSPI</td>\n",
       "      <td>한국패러랠</td>\n",
       "      <td>신탁업 및 집합투자업</td>\n",
       "      <td>NaN</td>\n",
       "      <td>2013-04-19</td>\n",
       "      <td>03월</td>\n",
       "      <td>한국투자신탁운용(주)</td>\n",
       "      <td>NaN</td>\n",
       "      <td>서울특별시</td>\n",
       "    </tr>\n",
       "    <tr>\n",
       "      <th>1</th>\n",
       "      <td>600013</td>\n",
       "      <td>맵스리얼티1</td>\n",
       "      <td>94800</td>\n",
       "      <td>20190405</td>\n",
       "      <td>94800</td>\n",
       "      <td>KOSPI</td>\n",
       "      <td>맵스리얼티1</td>\n",
       "      <td>신탁업 및 집합투자업</td>\n",
       "      <td>NaN</td>\n",
       "      <td>2007-04-09</td>\n",
       "      <td>12월</td>\n",
       "      <td>미래에셋자산운용(주)</td>\n",
       "      <td>http://www.miraeasset.com</td>\n",
       "      <td>서울특별시</td>\n",
       "    </tr>\n",
       "    <tr>\n",
       "      <th>2</th>\n",
       "      <td>435297</td>\n",
       "      <td>맥쿼리인프라</td>\n",
       "      <td>88980</td>\n",
       "      <td>20200715</td>\n",
       "      <td>88980</td>\n",
       "      <td>KOSPI</td>\n",
       "      <td>맥쿼리인프라</td>\n",
       "      <td>신탁업 및 집합투자업</td>\n",
       "      <td>증권투자회사</td>\n",
       "      <td>2006-03-15</td>\n",
       "      <td>12월</td>\n",
       "      <td>맥쿼리자산운용(주)</td>\n",
       "      <td>http://www.macquarie.com/kr/kr/mkif/index.html</td>\n",
       "      <td>서울특별시</td>\n",
       "    </tr>\n",
       "    <tr>\n",
       "      <th>3</th>\n",
       "      <td>159698</td>\n",
       "      <td>지역난방공사</td>\n",
       "      <td>71320</td>\n",
       "      <td>20210127</td>\n",
       "      <td>71320</td>\n",
       "      <td>KOSPI</td>\n",
       "      <td>지역난방공사</td>\n",
       "      <td>증기, 냉·온수 및 공기조절 공급업</td>\n",
       "      <td>집단에너지공급 및 전기,증기 생산,판매</td>\n",
       "      <td>2010-01-29</td>\n",
       "      <td>12월</td>\n",
       "      <td>황창화</td>\n",
       "      <td>http://www.kdhc.co.kr</td>\n",
       "      <td>경기도</td>\n",
       "    </tr>\n",
       "    <tr>\n",
       "      <th>4</th>\n",
       "      <td>458234</td>\n",
       "      <td>아시아나IDT</td>\n",
       "      <td>267850</td>\n",
       "      <td>20220114</td>\n",
       "      <td>267850</td>\n",
       "      <td>KOSPI</td>\n",
       "      <td>아시아나IDT</td>\n",
       "      <td>컴퓨터 프로그래밍, 시스템 통합 및 관리업</td>\n",
       "      <td>IT 서비스, IT 솔루션</td>\n",
       "      <td>2018-11-23</td>\n",
       "      <td>12월</td>\n",
       "      <td>서근식</td>\n",
       "      <td>http://www.asianaidt.com</td>\n",
       "      <td>서울특별시</td>\n",
       "    </tr>\n",
       "    <tr>\n",
       "      <th>...</th>\n",
       "      <td>...</td>\n",
       "      <td>...</td>\n",
       "      <td>...</td>\n",
       "      <td>...</td>\n",
       "      <td>...</td>\n",
       "      <td>...</td>\n",
       "      <td>...</td>\n",
       "      <td>...</td>\n",
       "      <td>...</td>\n",
       "      <td>...</td>\n",
       "      <td>...</td>\n",
       "      <td>...</td>\n",
       "      <td>...</td>\n",
       "      <td>...</td>\n",
       "    </tr>\n",
       "    <tr>\n",
       "      <th>815</th>\n",
       "      <td>131780</td>\n",
       "      <td>SK네트웍스</td>\n",
       "      <td>1740</td>\n",
       "      <td>20220407</td>\n",
       "      <td>1740</td>\n",
       "      <td>KOSPI</td>\n",
       "      <td>SK네트웍스</td>\n",
       "      <td>기타 전문 도매업</td>\n",
       "      <td>종합무역업(전자전기제품,섬유,에너지화학제품,철강금속제품),의류,수입산합판,MDF판매...</td>\n",
       "      <td>1977-06-30</td>\n",
       "      <td>12월</td>\n",
       "      <td>박상규</td>\n",
       "      <td>http://www.sknetworks.co.kr</td>\n",
       "      <td>경기도</td>\n",
       "    </tr>\n",
       "    <tr>\n",
       "      <th>816</th>\n",
       "      <td>217947</td>\n",
       "      <td>신세계건설</td>\n",
       "      <td>34300</td>\n",
       "      <td>20220503</td>\n",
       "      <td>34300</td>\n",
       "      <td>KOSPI</td>\n",
       "      <td>신세계건설</td>\n",
       "      <td>건물 건설업</td>\n",
       "      <td>토목,건축,건축관련기술서비스,빌딩관리용역,골프장,내장공사,시설개보수,설계용역</td>\n",
       "      <td>2002-06-17</td>\n",
       "      <td>12월</td>\n",
       "      <td>윤명규</td>\n",
       "      <td>http://httpswww.shinsegae-enc.com</td>\n",
       "      <td>서울특별시</td>\n",
       "    </tr>\n",
       "    <tr>\n",
       "      <th>817</th>\n",
       "      <td>117212</td>\n",
       "      <td>두산</td>\n",
       "      <td>150</td>\n",
       "      <td>20220503</td>\n",
       "      <td>150</td>\n",
       "      <td>KOSPI</td>\n",
       "      <td>두산</td>\n",
       "      <td>기타 금융업</td>\n",
       "      <td>동박적층판 등 제조 및 판매, 유압기기 등 제조 및 판매, 지게차 제조 및 판매, ...</td>\n",
       "      <td>1973-06-29</td>\n",
       "      <td>12월</td>\n",
       "      <td>박정원, 김민철, 문홍성</td>\n",
       "      <td>http://www.doosancorp.co.kr</td>\n",
       "      <td>서울특별시</td>\n",
       "    </tr>\n",
       "    <tr>\n",
       "      <th>818</th>\n",
       "      <td>150439</td>\n",
       "      <td>진양산업</td>\n",
       "      <td>3780</td>\n",
       "      <td>20220412</td>\n",
       "      <td>3780</td>\n",
       "      <td>KOSPI</td>\n",
       "      <td>진양산업</td>\n",
       "      <td>플라스틱제품 제조업</td>\n",
       "      <td>합성수지,폴리우레탄스폰지 제조,도매,수출입</td>\n",
       "      <td>1973-06-26</td>\n",
       "      <td>12월</td>\n",
       "      <td>김상용,조영태(각자대표이사)</td>\n",
       "      <td>http://www.cyc1963.com</td>\n",
       "      <td>경상남도</td>\n",
       "    </tr>\n",
       "    <tr>\n",
       "      <th>819</th>\n",
       "      <td>141626</td>\n",
       "      <td>오리엔트바이오</td>\n",
       "      <td>2630</td>\n",
       "      <td>20220228</td>\n",
       "      <td>2630</td>\n",
       "      <td>KOSPI</td>\n",
       "      <td>오리엔트바이오</td>\n",
       "      <td>의약품 제조업</td>\n",
       "      <td>의약품 제조</td>\n",
       "      <td>1976-12-28</td>\n",
       "      <td>03월</td>\n",
       "      <td>장재진</td>\n",
       "      <td>http://www.orient.co.kr</td>\n",
       "      <td>경기도</td>\n",
       "    </tr>\n",
       "  </tbody>\n",
       "</table>\n",
       "<p>820 rows × 14 columns</p>\n",
       "</div>"
      ],
      "text/plain": [
       "     corp_code corp_name  stock_code  modify_date  Symbol Market     Name  \\\n",
       "0       960641     한국패러랠      168490     20190116  168490  KOSPI    한국패러랠   \n",
       "1       600013    맵스리얼티1       94800     20190405   94800  KOSPI   맵스리얼티1   \n",
       "2       435297    맥쿼리인프라       88980     20200715   88980  KOSPI   맥쿼리인프라   \n",
       "3       159698    지역난방공사       71320     20210127   71320  KOSPI   지역난방공사   \n",
       "4       458234   아시아나IDT      267850     20220114  267850  KOSPI  아시아나IDT   \n",
       "..         ...       ...         ...          ...     ...    ...      ...   \n",
       "815     131780    SK네트웍스        1740     20220407    1740  KOSPI   SK네트웍스   \n",
       "816     217947     신세계건설       34300     20220503   34300  KOSPI    신세계건설   \n",
       "817     117212        두산         150     20220503     150  KOSPI       두산   \n",
       "818     150439      진양산업        3780     20220412    3780  KOSPI     진양산업   \n",
       "819     141626   오리엔트바이오        2630     20220228    2630  KOSPI  오리엔트바이오   \n",
       "\n",
       "                      Sector  \\\n",
       "0                신탁업 및 집합투자업   \n",
       "1                신탁업 및 집합투자업   \n",
       "2                신탁업 및 집합투자업   \n",
       "3        증기, 냉·온수 및 공기조절 공급업   \n",
       "4    컴퓨터 프로그래밍, 시스템 통합 및 관리업   \n",
       "..                       ...   \n",
       "815                기타 전문 도매업   \n",
       "816                   건물 건설업   \n",
       "817                   기타 금융업   \n",
       "818               플라스틱제품 제조업   \n",
       "819                  의약품 제조업   \n",
       "\n",
       "                                              Industry ListingDate  \\\n",
       "0                                                  NaN  2013-04-19   \n",
       "1                                                  NaN  2007-04-09   \n",
       "2                                               증권투자회사  2006-03-15   \n",
       "3                                집단에너지공급 및 전기,증기 생산,판매  2010-01-29   \n",
       "4                                       IT 서비스, IT 솔루션  2018-11-23   \n",
       "..                                                 ...         ...   \n",
       "815  종합무역업(전자전기제품,섬유,에너지화학제품,철강금속제품),의류,수입산합판,MDF판매...  1977-06-30   \n",
       "816         토목,건축,건축관련기술서비스,빌딩관리용역,골프장,내장공사,시설개보수,설계용역  2002-06-17   \n",
       "817  동박적층판 등 제조 및 판매, 유압기기 등 제조 및 판매, 지게차 제조 및 판매, ...  1973-06-29   \n",
       "818                            합성수지,폴리우레탄스폰지 제조,도매,수출입  1973-06-26   \n",
       "819                                             의약품 제조  1976-12-28   \n",
       "\n",
       "    SettleMonth   Representative  \\\n",
       "0           03월      한국투자신탁운용(주)   \n",
       "1           12월      미래에셋자산운용(주)   \n",
       "2           12월       맥쿼리자산운용(주)   \n",
       "3           12월              황창화   \n",
       "4           12월              서근식   \n",
       "..          ...              ...   \n",
       "815         12월              박상규   \n",
       "816         12월              윤명규   \n",
       "817         12월    박정원, 김민철, 문홍성   \n",
       "818         12월  김상용,조영태(각자대표이사)   \n",
       "819         03월              장재진   \n",
       "\n",
       "                                           HomePage Region  \n",
       "0                                               NaN  서울특별시  \n",
       "1                         http://www.miraeasset.com  서울특별시  \n",
       "2    http://www.macquarie.com/kr/kr/mkif/index.html  서울특별시  \n",
       "3                             http://www.kdhc.co.kr    경기도  \n",
       "4                          http://www.asianaidt.com  서울특별시  \n",
       "..                                              ...    ...  \n",
       "815                     http://www.sknetworks.co.kr    경기도  \n",
       "816               http://httpswww.shinsegae-enc.com  서울특별시  \n",
       "817                     http://www.doosancorp.co.kr  서울특별시  \n",
       "818                          http://www.cyc1963.com   경상남도  \n",
       "819                         http://www.orient.co.kr    경기도  \n",
       "\n",
       "[820 rows x 14 columns]"
      ]
     },
     "execution_count": 2,
     "metadata": {},
     "output_type": "execute_result"
    }
   ],
   "source": [
    "df = pd.read_csv('C:/Users/bitcamp/Desktop/final_data/kospi_list.csv', index_col=0)\n",
    "df"
   ]
  },
  {
   "cell_type": "code",
   "execution_count": 3,
   "id": "a460f2ca",
   "metadata": {},
   "outputs": [],
   "source": [
    "kospi_df = df.iloc[:,:3]"
   ]
  },
  {
   "cell_type": "code",
   "execution_count": 31,
   "id": "17278ee2",
   "metadata": {},
   "outputs": [],
   "source": [
    "# kospi_df.to_csv('kospi_목록_코드_종목코드.csv')"
   ]
  },
  {
   "cell_type": "code",
   "execution_count": 50,
   "id": "c89f4962",
   "metadata": {
    "collapsed": true
   },
   "outputs": [
    {
     "name": "stdout",
     "output_type": "stream",
     "text": [
      "960641\n"
     ]
    },
    {
     "ename": "RuntimeError",
     "evalue": "('Could not find an annual report', 'Unexpected Error')",
     "output_type": "error",
     "traceback": [
      "\u001b[1;31m---------------------------------------------------------------------------\u001b[0m",
      "\u001b[1;31mNoDataReceived\u001b[0m                            Traceback (most recent call last)",
      "\u001b[1;32m~\\Anaconda3\\lib\\site-packages\\dart_fss\\fs\\extract.py\u001b[0m in \u001b[0;36msearch_annual_report\u001b[1;34m(corp_code, bgn_de, end_de, separate)\u001b[0m\n\u001b[0;32m   1260\u001b[0m         \u001b[1;31m# 사업보고서 검색(최종보고서)\u001b[0m\u001b[1;33m\u001b[0m\u001b[1;33m\u001b[0m\u001b[0m\n\u001b[1;32m-> 1261\u001b[1;33m         reports = search_filings(corp_code=corp_code, bgn_de=bgn_de, end_de=end_de,\n\u001b[0m\u001b[0;32m   1262\u001b[0m                                  pblntf_detail_ty='A001', page_count=100, last_reprt_at='Y')\n",
      "\u001b[1;32m~\\Anaconda3\\lib\\site-packages\\dart_fss\\filings\\search.py\u001b[0m in \u001b[0;36msearch\u001b[1;34m(corp_code, bgn_de, end_de, last_reprt_at, pblntf_ty, pblntf_detail_ty, corp_cls, sort, sort_mth, page_no, page_count)\u001b[0m\n\u001b[0;32m     50\u001b[0m     \"\"\"\n\u001b[1;32m---> 51\u001b[1;33m     resp = search_filings(corp_code=corp_code,\n\u001b[0m\u001b[0;32m     52\u001b[0m                           \u001b[0mbgn_de\u001b[0m\u001b[1;33m=\u001b[0m\u001b[0mbgn_de\u001b[0m\u001b[1;33m,\u001b[0m\u001b[1;33m\u001b[0m\u001b[1;33m\u001b[0m\u001b[0m\n",
      "\u001b[1;32m~\\Anaconda3\\lib\\site-packages\\dart_fss\\api\\filings\\search_filings.py\u001b[0m in \u001b[0;36msearch_filings\u001b[1;34m(corp_code, bgn_de, end_de, last_reprt_at, pblntf_ty, pblntf_detail_ty, corp_cls, sort, sort_mth, page_no, page_count)\u001b[0m\n\u001b[0;32m     80\u001b[0m     \u001b[1;31m# Check Error\u001b[0m\u001b[1;33m\u001b[0m\u001b[1;33m\u001b[0m\u001b[0m\n\u001b[1;32m---> 81\u001b[1;33m     \u001b[0mcheck_status\u001b[0m\u001b[1;33m(\u001b[0m\u001b[1;33m**\u001b[0m\u001b[0mdataset\u001b[0m\u001b[1;33m)\u001b[0m\u001b[1;33m\u001b[0m\u001b[1;33m\u001b[0m\u001b[0m\n\u001b[0m\u001b[0;32m     82\u001b[0m     \u001b[1;32mreturn\u001b[0m \u001b[0mdataset\u001b[0m\u001b[1;33m\u001b[0m\u001b[1;33m\u001b[0m\u001b[0m\n",
      "\u001b[1;32m~\\Anaconda3\\lib\\site-packages\\dart_fss\\errors\\checker.py\u001b[0m in \u001b[0;36mcheck_status\u001b[1;34m(**kwargs)\u001b[0m\n\u001b[0;32m     46\u001b[0m         \u001b[0mmsg\u001b[0m \u001b[1;33m=\u001b[0m \u001b[0mkwargs\u001b[0m\u001b[1;33m.\u001b[0m\u001b[0mget\u001b[0m\u001b[1;33m(\u001b[0m\u001b[1;34m'message'\u001b[0m\u001b[1;33m)\u001b[0m\u001b[1;33m\u001b[0m\u001b[1;33m\u001b[0m\u001b[0m\n\u001b[1;32m---> 47\u001b[1;33m         \u001b[1;32mraise\u001b[0m \u001b[0merr\u001b[0m\u001b[1;33m(\u001b[0m\u001b[0mmsg\u001b[0m\u001b[1;33m)\u001b[0m\u001b[1;33m\u001b[0m\u001b[1;33m\u001b[0m\u001b[0m\n\u001b[0m",
      "\u001b[1;31mNoDataReceived\u001b[0m: 등록된 종목코드 또는 고유번호가 아닙니다.",
      "\nDuring handling of the above exception, another exception occurred:\n",
      "\u001b[1;31mNoDataReceived\u001b[0m                            Traceback (most recent call last)",
      "\u001b[1;32m~\\Anaconda3\\lib\\site-packages\\dart_fss\\fs\\extract.py\u001b[0m in \u001b[0;36msearch_annual_report\u001b[1;34m(corp_code, bgn_de, end_de, separate)\u001b[0m\n\u001b[0;32m   1268\u001b[0m             \u001b[0mpblntf_detail_ty\u001b[0m \u001b[1;33m=\u001b[0m \u001b[1;34m'F002'\u001b[0m\u001b[1;33m\u001b[0m\u001b[1;33m\u001b[0m\u001b[0m\n\u001b[1;32m-> 1269\u001b[1;33m         reports = search_filings(corp_code=corp_code, bgn_de=bgn_de, end_de=end_de,\n\u001b[0m\u001b[0;32m   1270\u001b[0m                                  pblntf_detail_ty=pblntf_detail_ty, page_count=100, last_reprt_at='Y')\n",
      "\u001b[1;32m~\\Anaconda3\\lib\\site-packages\\dart_fss\\filings\\search.py\u001b[0m in \u001b[0;36msearch\u001b[1;34m(corp_code, bgn_de, end_de, last_reprt_at, pblntf_ty, pblntf_detail_ty, corp_cls, sort, sort_mth, page_no, page_count)\u001b[0m\n\u001b[0;32m     50\u001b[0m     \"\"\"\n\u001b[1;32m---> 51\u001b[1;33m     resp = search_filings(corp_code=corp_code,\n\u001b[0m\u001b[0;32m     52\u001b[0m                           \u001b[0mbgn_de\u001b[0m\u001b[1;33m=\u001b[0m\u001b[0mbgn_de\u001b[0m\u001b[1;33m,\u001b[0m\u001b[1;33m\u001b[0m\u001b[1;33m\u001b[0m\u001b[0m\n",
      "\u001b[1;32m~\\Anaconda3\\lib\\site-packages\\dart_fss\\api\\filings\\search_filings.py\u001b[0m in \u001b[0;36msearch_filings\u001b[1;34m(corp_code, bgn_de, end_de, last_reprt_at, pblntf_ty, pblntf_detail_ty, corp_cls, sort, sort_mth, page_no, page_count)\u001b[0m\n\u001b[0;32m     80\u001b[0m     \u001b[1;31m# Check Error\u001b[0m\u001b[1;33m\u001b[0m\u001b[1;33m\u001b[0m\u001b[0m\n\u001b[1;32m---> 81\u001b[1;33m     \u001b[0mcheck_status\u001b[0m\u001b[1;33m(\u001b[0m\u001b[1;33m**\u001b[0m\u001b[0mdataset\u001b[0m\u001b[1;33m)\u001b[0m\u001b[1;33m\u001b[0m\u001b[1;33m\u001b[0m\u001b[0m\n\u001b[0m\u001b[0;32m     82\u001b[0m     \u001b[1;32mreturn\u001b[0m \u001b[0mdataset\u001b[0m\u001b[1;33m\u001b[0m\u001b[1;33m\u001b[0m\u001b[0m\n",
      "\u001b[1;32m~\\Anaconda3\\lib\\site-packages\\dart_fss\\errors\\checker.py\u001b[0m in \u001b[0;36mcheck_status\u001b[1;34m(**kwargs)\u001b[0m\n\u001b[0;32m     46\u001b[0m         \u001b[0mmsg\u001b[0m \u001b[1;33m=\u001b[0m \u001b[0mkwargs\u001b[0m\u001b[1;33m.\u001b[0m\u001b[0mget\u001b[0m\u001b[1;33m(\u001b[0m\u001b[1;34m'message'\u001b[0m\u001b[1;33m)\u001b[0m\u001b[1;33m\u001b[0m\u001b[1;33m\u001b[0m\u001b[0m\n\u001b[1;32m---> 47\u001b[1;33m         \u001b[1;32mraise\u001b[0m \u001b[0merr\u001b[0m\u001b[1;33m(\u001b[0m\u001b[0mmsg\u001b[0m\u001b[1;33m)\u001b[0m\u001b[1;33m\u001b[0m\u001b[1;33m\u001b[0m\u001b[0m\n\u001b[0m",
      "\u001b[1;31mNoDataReceived\u001b[0m: 등록된 종목코드 또는 고유번호가 아닙니다.",
      "\nDuring handling of the above exception, another exception occurred:\n",
      "\u001b[1;31mRuntimeError\u001b[0m                              Traceback (most recent call last)",
      "\u001b[1;32m~\\AppData\\Local\\Temp/ipykernel_5396/3849731797.py\u001b[0m in \u001b[0;36m<module>\u001b[1;34m\u001b[0m\n\u001b[0;32m     13\u001b[0m \u001b[1;33m\u001b[0m\u001b[0m\n\u001b[0;32m     14\u001b[0m     \u001b[1;31m# 2012년부터 연간 연결재무제표 불러오기\u001b[0m\u001b[1;33m\u001b[0m\u001b[1;33m\u001b[0m\u001b[0m\n\u001b[1;32m---> 15\u001b[1;33m     \u001b[0mfs\u001b[0m \u001b[1;33m=\u001b[0m \u001b[0mdart\u001b[0m\u001b[1;33m.\u001b[0m\u001b[0mfs\u001b[0m\u001b[1;33m.\u001b[0m\u001b[0mextract\u001b[0m\u001b[1;33m(\u001b[0m\u001b[0mcorp_code\u001b[0m\u001b[1;33m=\u001b[0m\u001b[0mcorp_code\u001b[0m\u001b[1;33m,\u001b[0m \u001b[0mbgn_de\u001b[0m\u001b[1;33m=\u001b[0m\u001b[1;34m'20120101'\u001b[0m\u001b[1;33m,\u001b[0m \u001b[0mcumulative\u001b[0m\u001b[1;33m=\u001b[0m\u001b[1;32mTrue\u001b[0m\u001b[1;33m,\u001b[0m \u001b[0mreport_tp\u001b[0m\u001b[1;33m=\u001b[0m\u001b[1;34m'quarter'\u001b[0m\u001b[1;33m)\u001b[0m\u001b[1;33m\u001b[0m\u001b[1;33m\u001b[0m\u001b[0m\n\u001b[0m\u001b[0;32m     16\u001b[0m \u001b[1;33m\u001b[0m\u001b[0m\n\u001b[0;32m     17\u001b[0m     \u001b[0mstock_code\u001b[0m \u001b[1;33m=\u001b[0m \u001b[0mkospi_df\u001b[0m\u001b[1;33m.\u001b[0m\u001b[0miloc\u001b[0m\u001b[1;33m[\u001b[0m\u001b[0mcode\u001b[0m\u001b[1;33m,\u001b[0m \u001b[1;36m2\u001b[0m\u001b[1;33m]\u001b[0m\u001b[1;33m\u001b[0m\u001b[1;33m\u001b[0m\u001b[0m\n",
      "\u001b[1;32m~\\Anaconda3\\lib\\site-packages\\dart_fss\\fs\\extract.py\u001b[0m in \u001b[0;36mextract\u001b[1;34m(corp_code, bgn_de, end_de, fs_tp, separate, report_tp, lang, separator, dataset, cumulative)\u001b[0m\n\u001b[0;32m   1446\u001b[0m             \u001b[0mmsg\u001b[0m \u001b[1;33m=\u001b[0m \u001b[1;34m'Unexpected Error'\u001b[0m\u001b[1;33m\u001b[0m\u001b[1;33m\u001b[0m\u001b[0m\n\u001b[0;32m   1447\u001b[0m         \u001b[0me\u001b[0m\u001b[1;33m.\u001b[0m\u001b[0margs\u001b[0m \u001b[1;33m=\u001b[0m \u001b[1;33m(\u001b[0m\u001b[1;33m*\u001b[0m\u001b[0me\u001b[0m\u001b[1;33m.\u001b[0m\u001b[0margs\u001b[0m\u001b[1;33m,\u001b[0m \u001b[0mmsg\u001b[0m\u001b[1;33m,\u001b[0m \u001b[1;33m)\u001b[0m\u001b[1;33m\u001b[0m\u001b[1;33m\u001b[0m\u001b[0m\n\u001b[1;32m-> 1448\u001b[1;33m         \u001b[1;32mraise\u001b[0m \u001b[0me\u001b[0m\u001b[1;33m\u001b[0m\u001b[1;33m\u001b[0m\u001b[0m\n\u001b[0m\u001b[0;32m   1449\u001b[0m     \u001b[1;32mfinally\u001b[0m\u001b[1;33m:\u001b[0m\u001b[1;33m\u001b[0m\u001b[1;33m\u001b[0m\u001b[0m\n\u001b[0;32m   1450\u001b[0m         \u001b[0mdart\u001b[0m\u001b[1;33m.\u001b[0m\u001b[0mutils\u001b[0m\u001b[1;33m.\u001b[0m\u001b[0mspinner\u001b[0m\u001b[1;33m.\u001b[0m\u001b[0mspinner_enable\u001b[0m \u001b[1;33m=\u001b[0m \u001b[1;32mTrue\u001b[0m\u001b[1;33m\u001b[0m\u001b[1;33m\u001b[0m\u001b[0m\n",
      "\u001b[1;32m~\\Anaconda3\\lib\\site-packages\\dart_fss\\fs\\extract.py\u001b[0m in \u001b[0;36mextract\u001b[1;34m(corp_code, bgn_de, end_de, fs_tp, separate, report_tp, lang, separator, dataset, cumulative)\u001b[0m\n\u001b[0;32m   1370\u001b[0m             \u001b[1;32mif\u001b[0m \u001b[0mcheck_report_tp\u001b[0m\u001b[1;33m(\u001b[0m\u001b[0mreport_tp\u001b[0m\u001b[1;33m,\u001b[0m \u001b[0mtp\u001b[0m\u001b[1;33m)\u001b[0m\u001b[1;33m:\u001b[0m\u001b[1;33m\u001b[0m\u001b[1;33m\u001b[0m\u001b[0m\n\u001b[0;32m   1371\u001b[0m                 \u001b[1;32mif\u001b[0m \u001b[0mtp\u001b[0m \u001b[1;33m==\u001b[0m \u001b[1;34m'annual'\u001b[0m\u001b[1;33m:\u001b[0m\u001b[1;33m\u001b[0m\u001b[1;33m\u001b[0m\u001b[0m\n\u001b[1;32m-> 1372\u001b[1;33m                     \u001b[0mreports\u001b[0m \u001b[1;33m=\u001b[0m \u001b[0msearch_annual_report\u001b[0m\u001b[1;33m(\u001b[0m\u001b[0mcorp_code\u001b[0m\u001b[1;33m=\u001b[0m\u001b[0mcorp_code\u001b[0m\u001b[1;33m,\u001b[0m \u001b[0mbgn_de\u001b[0m\u001b[1;33m=\u001b[0m\u001b[0mbgn_de\u001b[0m\u001b[1;33m,\u001b[0m \u001b[0mend_de\u001b[0m\u001b[1;33m=\u001b[0m\u001b[0mend_de\u001b[0m\u001b[1;33m,\u001b[0m \u001b[0mseparate\u001b[0m\u001b[1;33m=\u001b[0m\u001b[0mseparate\u001b[0m\u001b[1;33m)\u001b[0m\u001b[1;33m\u001b[0m\u001b[1;33m\u001b[0m\u001b[0m\n\u001b[0m\u001b[0;32m   1373\u001b[0m                 \u001b[1;32melse\u001b[0m\u001b[1;33m:\u001b[0m\u001b[1;33m\u001b[0m\u001b[1;33m\u001b[0m\u001b[0m\n\u001b[0;32m   1374\u001b[0m                     reports = search_filings(corp_code=corp_code, bgn_de=bgn_de, end_de=end_de,\n",
      "\u001b[1;32m~\\Anaconda3\\lib\\site-packages\\dart_fss\\fs\\extract.py\u001b[0m in \u001b[0;36msearch_annual_report\u001b[1;34m(corp_code, bgn_de, end_de, separate)\u001b[0m\n\u001b[0;32m   1271\u001b[0m     \u001b[1;32mfinally\u001b[0m\u001b[1;33m:\u001b[0m\u001b[1;33m\u001b[0m\u001b[1;33m\u001b[0m\u001b[0m\n\u001b[0;32m   1272\u001b[0m         \u001b[1;32mif\u001b[0m \u001b[0mlen\u001b[0m\u001b[1;33m(\u001b[0m\u001b[0mreports\u001b[0m\u001b[1;33m)\u001b[0m \u001b[1;33m==\u001b[0m \u001b[1;36m0\u001b[0m\u001b[1;33m:\u001b[0m\u001b[1;33m\u001b[0m\u001b[1;33m\u001b[0m\u001b[0m\n\u001b[1;32m-> 1273\u001b[1;33m             \u001b[1;32mraise\u001b[0m \u001b[0mRuntimeError\u001b[0m\u001b[1;33m(\u001b[0m\u001b[1;34m'Could not find an annual report'\u001b[0m\u001b[1;33m)\u001b[0m\u001b[1;33m\u001b[0m\u001b[1;33m\u001b[0m\u001b[0m\n\u001b[0m\u001b[0;32m   1274\u001b[0m         \u001b[1;32mreturn\u001b[0m \u001b[0mreports\u001b[0m\u001b[1;33m\u001b[0m\u001b[1;33m\u001b[0m\u001b[0m\n\u001b[0;32m   1275\u001b[0m \u001b[1;33m\u001b[0m\u001b[0m\n",
      "\u001b[1;31mRuntimeError\u001b[0m: ('Could not find an annual report', 'Unexpected Error')"
     ]
    }
   ],
   "source": [
    "import dart_fss as dart\n",
    "\n",
    "# Open DART API KEY 설정\n",
    "api_key='9ca2f170725d735b634acb1e71338844eaf45a5e'\n",
    "dart.set_api_key(api_key=api_key)\n",
    "\n",
    "# DART 에 공시된 회사 리스트 불러오기\n",
    "corp_list = dart.get_corp_list()\n",
    "\n",
    "for code in range(len(kospi_df))[:3]:\n",
    "    corp_code = kospi_df.iloc[code, 0]\n",
    "    print(corp_code)\n",
    "\n",
    "    # 2012년부터 연간 연결재무제표 불러오기\n",
    "    fs = dart.extract(corp_code=corp_code, bgn_de='20120101', cumulative=True, report_tp='quarter')\n",
    "    \n",
    "    stock_code = kospi_df.iloc[code, 2]\n",
    "    print(stock_code)\n",
    "#     재무제표 검색 결과를 엑셀파일로 저장 ( 기본저장위치: 실행폴더/fsdata )\n",
    "    fs.save(f'C:/Users/bitcamp/Desktop/final_data/{stock_code}.xls')"
   ]
  },
  {
   "cell_type": "code",
   "execution_count": null,
   "id": "54f56cf9",
   "metadata": {},
   "outputs": [
    {
     "data": {
      "application/vnd.jupyter.widget-view+json": {
       "model_id": "643df25fe4b0454383adf9f88ea380e7",
       "version_major": 2,
       "version_minor": 0
      },
      "text/plain": [
       "Output()"
      ]
     },
     "metadata": {},
     "output_type": "display_data"
    },
    {
     "data": {
      "application/vnd.jupyter.widget-view+json": {
       "model_id": "daf426f0ea9d453d89ed6daf64e2984e",
       "version_major": 2,
       "version_minor": 0
      },
      "text/plain": [
       "Output()"
      ]
     },
     "metadata": {},
     "output_type": "display_data"
    },
    {
     "data": {
      "application/vnd.jupyter.widget-view+json": {
       "model_id": "553bc6fd3cb34815bc4e681c8c7d9cf1",
       "version_major": 2,
       "version_minor": 0
      },
      "text/plain": [
       "Output()"
      ]
     },
     "metadata": {},
     "output_type": "display_data"
    },
    {
     "name": "stdout",
     "output_type": "stream",
     "text": [
      "한국패러랠\n",
      "맵스리얼티1\n",
      "맥쿼리인프라\n"
     ]
    },
    {
     "data": {
      "application/vnd.jupyter.widget-view+json": {
       "model_id": "fb5931929efb4af29b61a373351e0c57",
       "version_major": 2,
       "version_minor": 0
      },
      "text/plain": [
       "Annual reports:   0%|          | 0/11 [00:00<?, ?report/s]"
      ]
     },
     "metadata": {},
     "output_type": "display_data"
    },
    {
     "name": "stderr",
     "output_type": "stream",
     "text": [
      "Traceback (most recent call last):\n",
      "  File \"C:\\Users\\bitcamp\\Anaconda3\\lib\\site-packages\\dart_fss\\fs\\extract.py\", line 1401, in extract\n",
      "    nstatements = analyze_report(report=report,\n",
      "  File \"C:\\Users\\bitcamp\\Anaconda3\\lib\\site-packages\\dart_fss\\fs\\extract.py\", line 1243, in analyze_report\n",
      "    raise NotFoundConsolidated('Could not find consolidated financial statements')\n",
      "dart_fss.errors.errors.NotFoundConsolidated: Could not find consolidated financial statements\n",
      "Traceback (most recent call last):\n",
      "  File \"C:\\Users\\bitcamp\\Anaconda3\\lib\\site-packages\\dart_fss\\fs\\extract.py\", line 1401, in extract\n",
      "    nstatements = analyze_report(report=report,\n",
      "  File \"C:\\Users\\bitcamp\\Anaconda3\\lib\\site-packages\\dart_fss\\fs\\extract.py\", line 1243, in analyze_report\n",
      "    raise NotFoundConsolidated('Could not find consolidated financial statements')\n",
      "dart_fss.errors.errors.NotFoundConsolidated: Could not find consolidated financial statements\n"
     ]
    },
    {
     "data": {
      "application/vnd.jupyter.widget-view+json": {
       "model_id": "9a4248bc4f9f4c93ae69c95a364a27e4",
       "version_major": 2,
       "version_minor": 0
      },
      "text/plain": [
       "Semiannual reports:   0%|          | 0/10 [00:00<?, ?report/s]"
      ]
     },
     "metadata": {},
     "output_type": "display_data"
    },
    {
     "name": "stderr",
     "output_type": "stream",
     "text": [
      "Traceback (most recent call last):\n",
      "  File \"C:\\Users\\bitcamp\\Anaconda3\\lib\\site-packages\\dart_fss\\fs\\extract.py\", line 1401, in extract\n",
      "    nstatements = analyze_report(report=report,\n",
      "  File \"C:\\Users\\bitcamp\\Anaconda3\\lib\\site-packages\\dart_fss\\fs\\extract.py\", line 1243, in analyze_report\n",
      "    raise NotFoundConsolidated('Could not find consolidated financial statements')\n",
      "dart_fss.errors.errors.NotFoundConsolidated: Could not find consolidated financial statements\n",
      "Traceback (most recent call last):\n",
      "  File \"C:\\Users\\bitcamp\\Anaconda3\\lib\\site-packages\\dart_fss\\fs\\extract.py\", line 1401, in extract\n",
      "    nstatements = analyze_report(report=report,\n",
      "  File \"C:\\Users\\bitcamp\\Anaconda3\\lib\\site-packages\\dart_fss\\fs\\extract.py\", line 1243, in analyze_report\n",
      "    raise NotFoundConsolidated('Could not find consolidated financial statements')\n",
      "dart_fss.errors.errors.NotFoundConsolidated: Could not find consolidated financial statements\n",
      "Traceback (most recent call last):\n",
      "  File \"C:\\Users\\bitcamp\\Anaconda3\\lib\\site-packages\\dart_fss\\fs\\extract.py\", line 1401, in extract\n",
      "    nstatements = analyze_report(report=report,\n",
      "  File \"C:\\Users\\bitcamp\\Anaconda3\\lib\\site-packages\\dart_fss\\fs\\extract.py\", line 1243, in analyze_report\n",
      "    raise NotFoundConsolidated('Could not find consolidated financial statements')\n",
      "dart_fss.errors.errors.NotFoundConsolidated: Could not find consolidated financial statements\n",
      "Traceback (most recent call last):\n",
      "  File \"C:\\Users\\bitcamp\\Anaconda3\\lib\\site-packages\\dart_fss\\fs\\extract.py\", line 1401, in extract\n",
      "    nstatements = analyze_report(report=report,\n",
      "  File \"C:\\Users\\bitcamp\\Anaconda3\\lib\\site-packages\\dart_fss\\fs\\extract.py\", line 1243, in analyze_report\n",
      "    raise NotFoundConsolidated('Could not find consolidated financial statements')\n",
      "dart_fss.errors.errors.NotFoundConsolidated: Could not find consolidated financial statements\n"
     ]
    },
    {
     "data": {
      "application/vnd.jupyter.widget-view+json": {
       "model_id": "726f8d561a094b19b31b6ce40adb33ed",
       "version_major": 2,
       "version_minor": 0
      },
      "text/plain": [
       "Quarterly reports:   0%|          | 0/21 [00:00<?, ?report/s]"
      ]
     },
     "metadata": {},
     "output_type": "display_data"
    },
    {
     "name": "stderr",
     "output_type": "stream",
     "text": [
      "Traceback (most recent call last):\n",
      "  File \"C:\\Users\\bitcamp\\Anaconda3\\lib\\site-packages\\dart_fss\\fs\\extract.py\", line 1401, in extract\n",
      "    nstatements = analyze_report(report=report,\n",
      "  File \"C:\\Users\\bitcamp\\Anaconda3\\lib\\site-packages\\dart_fss\\fs\\extract.py\", line 1243, in analyze_report\n",
      "    raise NotFoundConsolidated('Could not find consolidated financial statements')\n",
      "dart_fss.errors.errors.NotFoundConsolidated: Could not find consolidated financial statements\n",
      "Traceback (most recent call last):\n",
      "  File \"C:\\Users\\bitcamp\\Anaconda3\\lib\\site-packages\\dart_fss\\fs\\extract.py\", line 1401, in extract\n",
      "    nstatements = analyze_report(report=report,\n",
      "  File \"C:\\Users\\bitcamp\\Anaconda3\\lib\\site-packages\\dart_fss\\fs\\extract.py\", line 1243, in analyze_report\n",
      "    raise NotFoundConsolidated('Could not find consolidated financial statements')\n",
      "dart_fss.errors.errors.NotFoundConsolidated: Could not find consolidated financial statements\n",
      "Traceback (most recent call last):\n",
      "  File \"C:\\Users\\bitcamp\\Anaconda3\\lib\\site-packages\\dart_fss\\fs\\extract.py\", line 1401, in extract\n",
      "    nstatements = analyze_report(report=report,\n",
      "  File \"C:\\Users\\bitcamp\\Anaconda3\\lib\\site-packages\\dart_fss\\fs\\extract.py\", line 1243, in analyze_report\n",
      "    raise NotFoundConsolidated('Could not find consolidated financial statements')\n",
      "dart_fss.errors.errors.NotFoundConsolidated: Could not find consolidated financial statements\n",
      "Traceback (most recent call last):\n",
      "  File \"C:\\Users\\bitcamp\\Anaconda3\\lib\\site-packages\\dart_fss\\fs\\extract.py\", line 1401, in extract\n",
      "    nstatements = analyze_report(report=report,\n",
      "  File \"C:\\Users\\bitcamp\\Anaconda3\\lib\\site-packages\\dart_fss\\fs\\extract.py\", line 1243, in analyze_report\n",
      "    raise NotFoundConsolidated('Could not find consolidated financial statements')\n",
      "dart_fss.errors.errors.NotFoundConsolidated: Could not find consolidated financial statements\n",
      "Traceback (most recent call last):\n",
      "  File \"C:\\Users\\bitcamp\\Anaconda3\\lib\\site-packages\\dart_fss\\fs\\extract.py\", line 1401, in extract\n",
      "    nstatements = analyze_report(report=report,\n",
      "  File \"C:\\Users\\bitcamp\\Anaconda3\\lib\\site-packages\\dart_fss\\fs\\extract.py\", line 1243, in analyze_report\n",
      "    raise NotFoundConsolidated('Could not find consolidated financial statements')\n",
      "dart_fss.errors.errors.NotFoundConsolidated: Could not find consolidated financial statements\n",
      "Traceback (most recent call last):\n",
      "  File \"C:\\Users\\bitcamp\\Anaconda3\\lib\\site-packages\\dart_fss\\fs\\extract.py\", line 1401, in extract\n",
      "    nstatements = analyze_report(report=report,\n",
      "  File \"C:\\Users\\bitcamp\\Anaconda3\\lib\\site-packages\\dart_fss\\fs\\extract.py\", line 1243, in analyze_report\n",
      "    raise NotFoundConsolidated('Could not find consolidated financial statements')\n",
      "dart_fss.errors.errors.NotFoundConsolidated: Could not find consolidated financial statements\n",
      "Traceback (most recent call last):\n",
      "  File \"C:\\Users\\bitcamp\\Anaconda3\\lib\\site-packages\\dart_fss\\fs\\extract.py\", line 1401, in extract\n",
      "    nstatements = analyze_report(report=report,\n",
      "  File \"C:\\Users\\bitcamp\\Anaconda3\\lib\\site-packages\\dart_fss\\fs\\extract.py\", line 1243, in analyze_report\n",
      "    raise NotFoundConsolidated('Could not find consolidated financial statements')\n",
      "dart_fss.errors.errors.NotFoundConsolidated: Could not find consolidated financial statements\n",
      "Traceback (most recent call last):\n",
      "  File \"C:\\Users\\bitcamp\\Anaconda3\\lib\\site-packages\\dart_fss\\fs\\extract.py\", line 1401, in extract\n",
      "    nstatements = analyze_report(report=report,\n",
      "  File \"C:\\Users\\bitcamp\\Anaconda3\\lib\\site-packages\\dart_fss\\fs\\extract.py\", line 1243, in analyze_report\n",
      "    raise NotFoundConsolidated('Could not find consolidated financial statements')\n",
      "dart_fss.errors.errors.NotFoundConsolidated: Could not find consolidated financial statements\n"
     ]
    },
    {
     "data": {
      "application/vnd.jupyter.widget-view+json": {
       "model_id": "450191d056304fe2ad2c5bf19a7cf858",
       "version_major": 2,
       "version_minor": 0
      },
      "text/plain": [
       "Annual reports:   0%|          | 0/4 [00:00<?, ?report/s]"
      ]
     },
     "metadata": {},
     "output_type": "display_data"
    },
    {
     "name": "stderr",
     "output_type": "stream",
     "text": [
      "Traceback (most recent call last):\n",
      "  File \"C:\\Users\\bitcamp\\Anaconda3\\lib\\site-packages\\dart_fss\\fs\\extract.py\", line 1381, in extract\n",
      "    statements = analyze_report(report=report,\n",
      "  File \"C:\\Users\\bitcamp\\Anaconda3\\lib\\site-packages\\dart_fss\\fs\\extract.py\", line 1243, in analyze_report\n",
      "    raise NotFoundConsolidated('Could not find consolidated financial statements')\n",
      "dart_fss.errors.errors.NotFoundConsolidated: Could not find consolidated financial statements\n",
      "Traceback (most recent call last):\n",
      "  File \"C:\\Users\\bitcamp\\Anaconda3\\lib\\site-packages\\dart_fss\\fs\\extract.py\", line 1381, in extract\n",
      "    statements = analyze_report(report=report,\n",
      "  File \"C:\\Users\\bitcamp\\Anaconda3\\lib\\site-packages\\dart_fss\\fs\\extract.py\", line 1243, in analyze_report\n",
      "    raise NotFoundConsolidated('Could not find consolidated financial statements')\n",
      "dart_fss.errors.errors.NotFoundConsolidated: Could not find consolidated financial statements\n"
     ]
    },
    {
     "data": {
      "application/vnd.jupyter.widget-view+json": {
       "model_id": "b85af8c7e84040efb1d53342a09c38d2",
       "version_major": 2,
       "version_minor": 0
      },
      "text/plain": [
       "Semiannual reports:   0%|          | 0/3 [00:00<?, ?report/s]"
      ]
     },
     "metadata": {},
     "output_type": "display_data"
    },
    {
     "name": "stderr",
     "output_type": "stream",
     "text": [
      "Traceback (most recent call last):\n",
      "  File \"C:\\Users\\bitcamp\\Anaconda3\\lib\\site-packages\\dart_fss\\fs\\extract.py\", line 1401, in extract\n",
      "    nstatements = analyze_report(report=report,\n",
      "  File \"C:\\Users\\bitcamp\\Anaconda3\\lib\\site-packages\\dart_fss\\fs\\extract.py\", line 1243, in analyze_report\n",
      "    raise NotFoundConsolidated('Could not find consolidated financial statements')\n",
      "dart_fss.errors.errors.NotFoundConsolidated: Could not find consolidated financial statements\n",
      "Traceback (most recent call last):\n",
      "  File \"C:\\Users\\bitcamp\\Anaconda3\\lib\\site-packages\\dart_fss\\fs\\extract.py\", line 1401, in extract\n",
      "    nstatements = analyze_report(report=report,\n",
      "  File \"C:\\Users\\bitcamp\\Anaconda3\\lib\\site-packages\\dart_fss\\fs\\extract.py\", line 1243, in analyze_report\n",
      "    raise NotFoundConsolidated('Could not find consolidated financial statements')\n",
      "dart_fss.errors.errors.NotFoundConsolidated: Could not find consolidated financial statements\n"
     ]
    },
    {
     "data": {
      "application/vnd.jupyter.widget-view+json": {
       "model_id": "45908e8f00aa4d3c91d7243ccd8a320e",
       "version_major": 2,
       "version_minor": 0
      },
      "text/plain": [
       "Quarterly reports:   0%|          | 0/7 [00:00<?, ?report/s]"
      ]
     },
     "metadata": {},
     "output_type": "display_data"
    },
    {
     "name": "stderr",
     "output_type": "stream",
     "text": [
      "Traceback (most recent call last):\n",
      "  File \"C:\\Users\\bitcamp\\Anaconda3\\lib\\site-packages\\dart_fss\\fs\\extract.py\", line 1401, in extract\n",
      "    nstatements = analyze_report(report=report,\n",
      "  File \"C:\\Users\\bitcamp\\Anaconda3\\lib\\site-packages\\dart_fss\\fs\\extract.py\", line 1243, in analyze_report\n",
      "    raise NotFoundConsolidated('Could not find consolidated financial statements')\n",
      "dart_fss.errors.errors.NotFoundConsolidated: Could not find consolidated financial statements\n",
      "Traceback (most recent call last):\n",
      "  File \"C:\\Users\\bitcamp\\Anaconda3\\lib\\site-packages\\dart_fss\\fs\\extract.py\", line 1401, in extract\n",
      "    nstatements = analyze_report(report=report,\n",
      "  File \"C:\\Users\\bitcamp\\Anaconda3\\lib\\site-packages\\dart_fss\\fs\\extract.py\", line 1243, in analyze_report\n",
      "    raise NotFoundConsolidated('Could not find consolidated financial statements')\n",
      "dart_fss.errors.errors.NotFoundConsolidated: Could not find consolidated financial statements\n",
      "Traceback (most recent call last):\n",
      "  File \"C:\\Users\\bitcamp\\Anaconda3\\lib\\site-packages\\dart_fss\\fs\\extract.py\", line 1401, in extract\n",
      "    nstatements = analyze_report(report=report,\n",
      "  File \"C:\\Users\\bitcamp\\Anaconda3\\lib\\site-packages\\dart_fss\\fs\\extract.py\", line 1243, in analyze_report\n",
      "    raise NotFoundConsolidated('Could not find consolidated financial statements')\n",
      "dart_fss.errors.errors.NotFoundConsolidated: Could not find consolidated financial statements\n",
      "Traceback (most recent call last):\n",
      "  File \"C:\\Users\\bitcamp\\Anaconda3\\lib\\site-packages\\dart_fss\\fs\\extract.py\", line 1401, in extract\n",
      "    nstatements = analyze_report(report=report,\n",
      "  File \"C:\\Users\\bitcamp\\Anaconda3\\lib\\site-packages\\dart_fss\\fs\\extract.py\", line 1243, in analyze_report\n",
      "    raise NotFoundConsolidated('Could not find consolidated financial statements')\n",
      "dart_fss.errors.errors.NotFoundConsolidated: Could not find consolidated financial statements\n",
      "Traceback (most recent call last):\n",
      "  File \"C:\\Users\\bitcamp\\Anaconda3\\lib\\site-packages\\dart_fss\\fs\\extract.py\", line 1401, in extract\n",
      "    nstatements = analyze_report(report=report,\n",
      "  File \"C:\\Users\\bitcamp\\Anaconda3\\lib\\site-packages\\dart_fss\\fs\\extract.py\", line 1243, in analyze_report\n",
      "    raise NotFoundConsolidated('Could not find consolidated financial statements')\n",
      "dart_fss.errors.errors.NotFoundConsolidated: Could not find consolidated financial statements\n"
     ]
    },
    {
     "data": {
      "application/vnd.jupyter.widget-view+json": {
       "model_id": "38914327092c4ec89181ce151800ad7b",
       "version_major": 2,
       "version_minor": 0
      },
      "text/plain": [
       "Annual reports:   0%|          | 0/11 [00:00<?, ?report/s]"
      ]
     },
     "metadata": {},
     "output_type": "display_data"
    },
    {
     "name": "stderr",
     "output_type": "stream",
     "text": [
      "Traceback (most recent call last):\n",
      "  File \"C:\\Users\\bitcamp\\Anaconda3\\lib\\site-packages\\dart_fss\\fs\\extract.py\", line 1381, in extract\n",
      "    statements = analyze_report(report=report,\n",
      "  File \"C:\\Users\\bitcamp\\Anaconda3\\lib\\site-packages\\dart_fss\\fs\\extract.py\", line 1243, in analyze_report\n",
      "    raise NotFoundConsolidated('Could not find consolidated financial statements')\n",
      "dart_fss.errors.errors.NotFoundConsolidated: Could not find consolidated financial statements\n",
      "Traceback (most recent call last):\n",
      "  File \"C:\\Users\\bitcamp\\Anaconda3\\lib\\site-packages\\dart_fss\\fs\\extract.py\", line 1381, in extract\n",
      "    statements = analyze_report(report=report,\n",
      "  File \"C:\\Users\\bitcamp\\Anaconda3\\lib\\site-packages\\dart_fss\\fs\\extract.py\", line 1243, in analyze_report\n",
      "    raise NotFoundConsolidated('Could not find consolidated financial statements')\n",
      "dart_fss.errors.errors.NotFoundConsolidated: Could not find consolidated financial statements\n",
      "Traceback (most recent call last):\n",
      "  File \"C:\\Users\\bitcamp\\Anaconda3\\lib\\site-packages\\dart_fss\\fs\\extract.py\", line 1381, in extract\n",
      "    statements = analyze_report(report=report,\n",
      "  File \"C:\\Users\\bitcamp\\Anaconda3\\lib\\site-packages\\dart_fss\\fs\\extract.py\", line 1243, in analyze_report\n",
      "    raise NotFoundConsolidated('Could not find consolidated financial statements')\n",
      "dart_fss.errors.errors.NotFoundConsolidated: Could not find consolidated financial statements\n",
      "Traceback (most recent call last):\n",
      "  File \"C:\\Users\\bitcamp\\Anaconda3\\lib\\site-packages\\dart_fss\\fs\\extract.py\", line 1381, in extract\n",
      "    statements = analyze_report(report=report,\n",
      "  File \"C:\\Users\\bitcamp\\Anaconda3\\lib\\site-packages\\dart_fss\\fs\\extract.py\", line 1243, in analyze_report\n",
      "    raise NotFoundConsolidated('Could not find consolidated financial statements')\n",
      "dart_fss.errors.errors.NotFoundConsolidated: Could not find consolidated financial statements\n",
      "Traceback (most recent call last):\n",
      "  File \"C:\\Users\\bitcamp\\Anaconda3\\lib\\site-packages\\dart_fss\\fs\\extract.py\", line 1381, in extract\n",
      "    statements = analyze_report(report=report,\n",
      "  File \"C:\\Users\\bitcamp\\Anaconda3\\lib\\site-packages\\dart_fss\\fs\\extract.py\", line 1243, in analyze_report\n",
      "    raise NotFoundConsolidated('Could not find consolidated financial statements')\n",
      "dart_fss.errors.errors.NotFoundConsolidated: Could not find consolidated financial statements\n",
      "Traceback (most recent call last):\n",
      "  File \"C:\\Users\\bitcamp\\Anaconda3\\lib\\site-packages\\dart_fss\\fs\\extract.py\", line 1381, in extract\n",
      "    statements = analyze_report(report=report,\n",
      "  File \"C:\\Users\\bitcamp\\Anaconda3\\lib\\site-packages\\dart_fss\\fs\\extract.py\", line 1243, in analyze_report\n",
      "    raise NotFoundConsolidated('Could not find consolidated financial statements')\n",
      "dart_fss.errors.errors.NotFoundConsolidated: Could not find consolidated financial statements\n",
      "Traceback (most recent call last):\n",
      "  File \"C:\\Users\\bitcamp\\Anaconda3\\lib\\site-packages\\dart_fss\\fs\\extract.py\", line 1381, in extract\n",
      "    statements = analyze_report(report=report,\n",
      "  File \"C:\\Users\\bitcamp\\Anaconda3\\lib\\site-packages\\dart_fss\\fs\\extract.py\", line 1243, in analyze_report\n",
      "    raise NotFoundConsolidated('Could not find consolidated financial statements')\n",
      "dart_fss.errors.errors.NotFoundConsolidated: Could not find consolidated financial statements\n",
      "Traceback (most recent call last):\n",
      "  File \"C:\\Users\\bitcamp\\Anaconda3\\lib\\site-packages\\dart_fss\\fs\\extract.py\", line 1381, in extract\n",
      "    statements = analyze_report(report=report,\n",
      "  File \"C:\\Users\\bitcamp\\Anaconda3\\lib\\site-packages\\dart_fss\\fs\\extract.py\", line 1243, in analyze_report\n",
      "    raise NotFoundConsolidated('Could not find consolidated financial statements')\n",
      "dart_fss.errors.errors.NotFoundConsolidated: Could not find consolidated financial statements\n"
     ]
    },
    {
     "name": "stdout",
     "output_type": "stream",
     "text": [
      "Web file appears to be an html logon request, not retrieved: http://xbrl-dart.fss.or.kr/kr/dart/gaap/ci/2009-12-31/xbrl-dart-gaap-ci-2009-12-31.xsd \n",
      "Contents: \n",
      "b'<!DOCTYPE html>\\n<html>\\n<head>\\n<meta charset=\"UTF-8\" />\\n<meta name=\"viewport\" content=\"width=device-width,initial-scale=1.0,minimum-scale=1.0,maximum-scale=1.0,user-scalable=no\" />\\n<meta http-equiv=\"X-UA-Compatible\" content=\"ie=edge\" />\\n<title>DART\\xec\\x8b\\x9c\\xec\\x8a\\xa4\\xed\\x85\\x9c</title>\\n<style>\\n/* default */\\nhtml {height:100%;}\\ndiv, p, ul, li, table, th, td, textarea, input,  form, h1, h2, h3, h4, h5, h6, dt, dl, dd, em, address, cite,\\nul, ol, dl, dd, dt, li {list-style-type:none;margin:0;padding:0px;color:#333;box-sizing:border-box;}\\nbody {width:100%;height:100%;margin:0px;padding:0px;font-family:\"\\xeb\\xa7\\x91\\xec\\x9d\\x80 \\xea\\xb3\\xa0\\xeb\\x94\\x95\", \"Malgun Gothic\", sans-serif;font-size:13px;color:#333;line-height:1.15;font-weight:normal;overflow-Y:scroll;}\\nbutton {padding:0;margin:0;background-color:transparent;color:#fff;border:none;/* outline:none !important;*/ }\\ncaption{display:none;overflow:hidden;width:0;height:0;font-size:0;text-indent:-9999em;}\\nabbr, img, fieldset {border:0 none;/* tab focus */}\\n\\n/* link */\\na {text-decoration:none;color:#333;}\\na:link {text-decoration:none;color:#333;}\\ntable td span a {text-decoration:none;color:#333;}\\ntable td a:visited {text-decoration:none;color:#cd0093;}\\n.tbWideList th a.second:visited{text-decoration:none;color:#cd0093;}\\na:hover, a:focus, a:active {text-decoration:none;color:#397fe7;}\\na:focus, img:focus {/* outline:none */}\\n\\nbody {background: var(--bgColor);}\\n\\n.errorWrap {margin:0 auto;margin-top:5%;width:650px;position:relative;}\\n.errorWrap .top {margin-bottom:20px;display:block;}\\n.errorWrap .top .logo {margin-top:24px;width:120px;height:32px;background:url(https://dart.fss.or.kr/images/header_logo.png) no-repeat;background-size:100%;display:block;cursor:pointer;font-size:0;}\\n.errorWrap .contWrap {width:100%;padding:20px 50px 30px 50px;background:#fff;position:relative;border:5px solid #ccc;display:block;clear:both;}\\n.errorWrap .contWrap .imgError {margin:0 auto;margin-bottom:0;width:260px;height:190px;padding:0;background:url(https://dart.fss.or.kr/images/icon_error.png) no-repeat center top;background-size:100%;display:block;}\\n.errorWrap .contWrap .infoWrap {padding:20px 30px 30px 30px;line-height:180%;border:1px solid #e1e1e1;border-radius:5px;}\\n.errorWrap .contWrap .alert {padding:0;font-size:20px;color:#333;font-weight:900;line-height:170%;padding-bottom:20px;text-align:center;}\\n.errorWrap .contWrap .info {margin-top:0;color:#555;line-height:170%;padding-bottom:10px;}\\n.errorWrap .contWrap .info.mB10 {margin-bottom:10px;}\\n.errorWrap .contWrap .info .app {margin-left:20px;color:#3261cd;font-size:13px;line-height:200%;letter-spacing:-1px;}\\n.errorWrap .contWrap .btnLG {margin:auto;margin-top:20px;width:170px;height:24px;padding:6px 0 0 0;background:#aaa;border:1px solid rgba(0,0,0,0.15);border-radius:2px;display:block;color:#fff;font-size:14px;font-weight:700;text-align:center;cursor:pointer;}\\n.errorWrap .footerWrap {padding:20px 0 20px 0;color:#777;line-height:170%;font-size:12px;text-align:center;}\\n\\n@media (max-width:760px) {\\n.errorWrap {margin-top:0%;width:100%;padding:0 20px 0 20px;}\\n.errorWrap .top .logo {width:104px;}\\n.errorWrap .contWrap {padding:10px 20px 20px 20px;}\\n.errorWrap .contWrap .imgError {width:180px;height:130px;}\\n.errorWrap .contWrap .infoWrap {padding:20px 0 20px 0;border:0px solid #e1e1e1;font-size:12px;}\\n.errorWrap .contWrap .alert {font-size:15px;}\\n.errorWrap .contWrap .btnLG {margin-top:0;height:28px;font-size:13px;}\\n.errorWrap .footerWrap {padding:20px 0 0 0;font-size:11px;}\\n}\\n</style>\\n</head>\\n\\n<body>\\n\\t<!-- cont -->\\n\\t<div class=\"cont\">\\n\\t\\t<!-- error -->\\n\\t\\t<div class=\"errorWrap\">\\n\\t\\t\\t<!-- header -->\\n\\t\\t\\t<div class=\"top\">\\n\\t\\t\\t\\t<a href=\"https://dart.fss.or.kr\"><h1 class=\"logo\" title=\"\\xed\\x99\\x88\\xec\\x9c\\xbc\\xeb\\xa1\\x9c \\xea\\xb0\\x80\\xea\\xb8\\xb0\">\\xed\\x99\\x88\\xec\\x9c\\xbc\\xeb\\xa1\\x9c \\xea\\xb0\\x80\\xea\\xb8\\xb0</h1></a>\\n\\t\\t\\t</div>\\n\\n\\t\\t\\t<!-- contWrap -->\\n\\t\\t\\t<div class=\"contWrap\"> \\n\\t\\t\\t\\t<div class=\"imgError\"></div>\\n\\t\\t\\t\\t<div class=\"infoWrap\">\\n\\t\\t\\t\\t\\t<p class=\"alert\">\\xec\\x84\\x9c\\xeb\\xb9\\x84\\xec\\x8a\\xa4 \\xec\\x9d\\xb4\\xec\\x9a\\xa9\\xec\\x97\\x90 \\xeb\\xb6\\x88\\xed\\x8e\\xb8\\xec\\x9d\\x84 \\xeb\\x93\\x9c\\xeb\\xa0\\xa4 \\xec\\xa3\\x84\\xec\\x86\\xa1\\xed\\x95\\xa9\\xeb\\x8b\\x88\\xeb\\x8b\\xa4.</p>\\n\\t\\t\\t\\t\\t<p class=\"info\">\\xec\\x9a\\x94\\xec\\xb2\\xad\\xed\\x95\\x98\\xec\\x8b\\xa0 \\xec\\x9d\\xb8\\xed\\x84\\xb0\\xeb\\x84\\xb7\\xec\\xa3\\xbc\\xec\\x86\\x8c(URL)\\xec\\x9d\\x84 \\xec\\xb0\\xbe\\xec\\x9d\\x84 \\xec\\x88\\x98 \\xec\\x97\\x86\\xec\\x8a\\xb5\\xeb\\x8b\\x88\\xeb\\x8b\\xa4.</p>\\n\\t\\t\\t\\t\\t<p class=\"info mB10\">\\xec\\xb0\\xbe\\xec\\x9c\\xbc\\xec\\x8b\\x9c\\xeb\\x8a\\x94 URL\\xec\\x9d\\xb4 \\xeb\\xb3\\x80\\xea\\xb2\\xbd\\xeb\\x90\\x98\\xec\\x97\\x88\\xea\\xb1\\xb0\\xeb\\x82\\x98, \\xec\\x82\\xad\\xec\\xa0\\x9c\\xeb\\x90\\x98\\xec\\x97\\x88\\xec\\x9d\\x84 \\xec\\x88\\x98 \\xec\\x9e\\x88\\xec\\x8a\\xb5\\xeb\\x8b\\x88\\xeb\\x8b\\xa4. URL\\xec\\x9d\\xb4 \\xec\\x9e\\x98\\xeb\\xaa\\xbb \\xec\\x9e\\x85\\xeb\\xa0\\xa5\\xeb\\x90\\x98\\xec\\x97\\x88\\xeb\\x8a\\x94\\xec\\xa7\\x80 \\xeb\\x8b\\xa4\\xec\\x8b\\x9c \\xed\\x95\\x9c\\xeb\\xb2\\x88 \\xed\\x99\\x95\\xec\\x9d\\xb8\\xed\\x95\\xb4 \\xeb\\xb3\\xb4\\xec\\x8b\\x9c\\xea\\xb8\\xb0 \\xeb\\xb0\\x94\\xeb\\x9e\\x8d\\xeb\\x8b\\x88\\xeb\\x8b\\xa4.</p>\\n\\t\\t\\t\\t\\t<p class=\"info\">URL\\xec\\x9d\\xb4 \\xec\\xa0\\x95\\xed\\x99\\x95\\xed\\x95\\x98\\xeb\\x8b\\xa4\\xeb\\xa9\\xb4 \\xec\\x9e\\xa0\\xec\\x8b\\x9c\\xed\\x9b\\x84\\xec\\x97\\x90 \\xeb\\x8b\\xa4\\xec\\x8b\\x9c \\xec\\x97\\xb0\\xea\\xb2\\xb0\\xec\\x9d\\x84 \\xec\\x8b\\x9c\\xeb\\x8f\\x84\\xed\\x95\\xb4 \\xeb\\xb3\\xb4\\xec\\x8b\\x9c\\xea\\xb8\\xb0 \\xeb\\xb0\\x94\\xeb\\x9d\\xbc\\xeb\\xa9\\xb0 \\xea\\xb3\\x84\\xec\\x86\\x8d \\xea\\xb0\\x99\\xec\\x9d\\x80 \\xed\\x98\\x84\\xec\\x83\\x81\\xec\\x9d\\xb4 \\xeb\\xb0\\x9c\\xec\\x83\\x9d\\xed\\x95\\x9c\\xeb\\x8b\\xa4\\xeb\\xa9\\xb4, \\xea\\xb8\\x88\\xec\\x9c\\xb5\\xea\\xb0\\x90\\xeb\\x8f\\x85\\xec\\x9b\\x90(dart@fss.or.kr)\\xec\\x9c\\xbc\\xeb\\xa1\\x9c \\xec\\x97\\xb0\\xeb\\x9d\\xbd\\xec\\x9d\\x84 \\xec\\xa3\\xbc\\xec\\x8b\\x9c\\xea\\xb8\\xb0 \\xeb\\xb0\\x94\\xeb\\x9e\\x8d\\xeb\\x8b\\x88\\xeb\\x8b\\xa4.</p>\\n\\t\\t\\t\\t</div>\\n\\t\\t\\t\\t\\t<a class=\"btnLG\" target=\"_top\" href=\"https://dart.fss.or.kr\">DART \\xeb\\xa9\\x94\\xec\\x9d\\xb8\\xed\\x99\\x94\\xeb\\xa9\\xb4 \\xeb\\xb0\\x94\\xeb\\xa1\\x9c\\xea\\xb0\\x80\\xea\\xb8\\xb0</a>\\n\\t\\t\\t</div>\\n\\n\\t\\t\\t<!-- footerWrap -->\\n\\t\\t\\t<div class=\"footerWrap\">Copyright \\xe2\\x93\\x92 Financial supervisory service. All rights reserved.</div> \\n\\t\\t</div>\\n\\t\\t<!-- //error -->\\n\\t</div>\\n\\t<!-- //cont -->\\n</body>\\n</html>'\n",
      "Web file appears to be an html logon request, not retrieved: http://xbrl-dart.fss.or.kr/kr/dart/gcd/2009-12-31/xbrl-dart-gcd-2009-12-31.xsd \n",
      "Contents: \n"
     ]
    },
    {
     "name": "stdout",
     "output_type": "stream",
     "text": [
      "b'<!DOCTYPE html>\\n<html>\\n<head>\\n<meta charset=\"UTF-8\" />\\n<meta name=\"viewport\" content=\"width=device-width,initial-scale=1.0,minimum-scale=1.0,maximum-scale=1.0,user-scalable=no\" />\\n<meta http-equiv=\"X-UA-Compatible\" content=\"ie=edge\" />\\n<title>DART\\xec\\x8b\\x9c\\xec\\x8a\\xa4\\xed\\x85\\x9c</title>\\n<style>\\n/* default */\\nhtml {height:100%;}\\ndiv, p, ul, li, table, th, td, textarea, input,  form, h1, h2, h3, h4, h5, h6, dt, dl, dd, em, address, cite,\\nul, ol, dl, dd, dt, li {list-style-type:none;margin:0;padding:0px;color:#333;box-sizing:border-box;}\\nbody {width:100%;height:100%;margin:0px;padding:0px;font-family:\"\\xeb\\xa7\\x91\\xec\\x9d\\x80 \\xea\\xb3\\xa0\\xeb\\x94\\x95\", \"Malgun Gothic\", sans-serif;font-size:13px;color:#333;line-height:1.15;font-weight:normal;overflow-Y:scroll;}\\nbutton {padding:0;margin:0;background-color:transparent;color:#fff;border:none;/* outline:none !important;*/ }\\ncaption{display:none;overflow:hidden;width:0;height:0;font-size:0;text-indent:-9999em;}\\nabbr, img, fieldset {border:0 none;/* tab focus */}\\n\\n/* link */\\na {text-decoration:none;color:#333;}\\na:link {text-decoration:none;color:#333;}\\ntable td span a {text-decoration:none;color:#333;}\\ntable td a:visited {text-decoration:none;color:#cd0093;}\\n.tbWideList th a.second:visited{text-decoration:none;color:#cd0093;}\\na:hover, a:focus, a:active {text-decoration:none;color:#397fe7;}\\na:focus, img:focus {/* outline:none */}\\n\\nbody {background: var(--bgColor);}\\n\\n.errorWrap {margin:0 auto;margin-top:5%;width:650px;position:relative;}\\n.errorWrap .top {margin-bottom:20px;display:block;}\\n.errorWrap .top .logo {margin-top:24px;width:120px;height:32px;background:url(https://dart.fss.or.kr/images/header_logo.png) no-repeat;background-size:100%;display:block;cursor:pointer;font-size:0;}\\n.errorWrap .contWrap {width:100%;padding:20px 50px 30px 50px;background:#fff;position:relative;border:5px solid #ccc;display:block;clear:both;}\\n.errorWrap .contWrap .imgError {margin:0 auto;margin-bottom:0;width:260px;height:190px;padding:0;background:url(https://dart.fss.or.kr/images/icon_error.png) no-repeat center top;background-size:100%;display:block;}\\n.errorWrap .contWrap .infoWrap {padding:20px 30px 30px 30px;line-height:180%;border:1px solid #e1e1e1;border-radius:5px;}\\n.errorWrap .contWrap .alert {padding:0;font-size:20px;color:#333;font-weight:900;line-height:170%;padding-bottom:20px;text-align:center;}\\n.errorWrap .contWrap .info {margin-top:0;color:#555;line-height:170%;padding-bottom:10px;}\\n.errorWrap .contWrap .info.mB10 {margin-bottom:10px;}\\n.errorWrap .contWrap .info .app {margin-left:20px;color:#3261cd;font-size:13px;line-height:200%;letter-spacing:-1px;}\\n.errorWrap .contWrap .btnLG {margin:auto;margin-top:20px;width:170px;height:24px;padding:6px 0 0 0;background:#aaa;border:1px solid rgba(0,0,0,0.15);border-radius:2px;display:block;color:#fff;font-size:14px;font-weight:700;text-align:center;cursor:pointer;}\\n.errorWrap .footerWrap {padding:20px 0 20px 0;color:#777;line-height:170%;font-size:12px;text-align:center;}\\n\\n@media (max-width:760px) {\\n.errorWrap {margin-top:0%;width:100%;padding:0 20px 0 20px;}\\n.errorWrap .top .logo {width:104px;}\\n.errorWrap .contWrap {padding:10px 20px 20px 20px;}\\n.errorWrap .contWrap .imgError {width:180px;height:130px;}\\n.errorWrap .contWrap .infoWrap {padding:20px 0 20px 0;border:0px solid #e1e1e1;font-size:12px;}\\n.errorWrap .contWrap .alert {font-size:15px;}\\n.errorWrap .contWrap .btnLG {margin-top:0;height:28px;font-size:13px;}\\n.errorWrap .footerWrap {padding:20px 0 0 0;font-size:11px;}\\n}\\n</style>\\n</head>\\n\\n<body>\\n\\t<!-- cont -->\\n\\t<div class=\"cont\">\\n\\t\\t<!-- error -->\\n\\t\\t<div class=\"errorWrap\">\\n\\t\\t\\t<!-- header -->\\n\\t\\t\\t<div class=\"top\">\\n\\t\\t\\t\\t<a href=\"https://dart.fss.or.kr\"><h1 class=\"logo\" title=\"\\xed\\x99\\x88\\xec\\x9c\\xbc\\xeb\\xa1\\x9c \\xea\\xb0\\x80\\xea\\xb8\\xb0\">\\xed\\x99\\x88\\xec\\x9c\\xbc\\xeb\\xa1\\x9c \\xea\\xb0\\x80\\xea\\xb8\\xb0</h1></a>\\n\\t\\t\\t</div>\\n\\n\\t\\t\\t<!-- contWrap -->\\n\\t\\t\\t<div class=\"contWrap\"> \\n\\t\\t\\t\\t<div class=\"imgError\"></div>\\n\\t\\t\\t\\t<div class=\"infoWrap\">\\n\\t\\t\\t\\t\\t<p class=\"alert\">\\xec\\x84\\x9c\\xeb\\xb9\\x84\\xec\\x8a\\xa4 \\xec\\x9d\\xb4\\xec\\x9a\\xa9\\xec\\x97\\x90 \\xeb\\xb6\\x88\\xed\\x8e\\xb8\\xec\\x9d\\x84 \\xeb\\x93\\x9c\\xeb\\xa0\\xa4 \\xec\\xa3\\x84\\xec\\x86\\xa1\\xed\\x95\\xa9\\xeb\\x8b\\x88\\xeb\\x8b\\xa4.</p>\\n\\t\\t\\t\\t\\t<p class=\"info\">\\xec\\x9a\\x94\\xec\\xb2\\xad\\xed\\x95\\x98\\xec\\x8b\\xa0 \\xec\\x9d\\xb8\\xed\\x84\\xb0\\xeb\\x84\\xb7\\xec\\xa3\\xbc\\xec\\x86\\x8c(URL)\\xec\\x9d\\x84 \\xec\\xb0\\xbe\\xec\\x9d\\x84 \\xec\\x88\\x98 \\xec\\x97\\x86\\xec\\x8a\\xb5\\xeb\\x8b\\x88\\xeb\\x8b\\xa4.</p>\\n\\t\\t\\t\\t\\t<p class=\"info mB10\">\\xec\\xb0\\xbe\\xec\\x9c\\xbc\\xec\\x8b\\x9c\\xeb\\x8a\\x94 URL\\xec\\x9d\\xb4 \\xeb\\xb3\\x80\\xea\\xb2\\xbd\\xeb\\x90\\x98\\xec\\x97\\x88\\xea\\xb1\\xb0\\xeb\\x82\\x98, \\xec\\x82\\xad\\xec\\xa0\\x9c\\xeb\\x90\\x98\\xec\\x97\\x88\\xec\\x9d\\x84 \\xec\\x88\\x98 \\xec\\x9e\\x88\\xec\\x8a\\xb5\\xeb\\x8b\\x88\\xeb\\x8b\\xa4. URL\\xec\\x9d\\xb4 \\xec\\x9e\\x98\\xeb\\xaa\\xbb \\xec\\x9e\\x85\\xeb\\xa0\\xa5\\xeb\\x90\\x98\\xec\\x97\\x88\\xeb\\x8a\\x94\\xec\\xa7\\x80 \\xeb\\x8b\\xa4\\xec\\x8b\\x9c \\xed\\x95\\x9c\\xeb\\xb2\\x88 \\xed\\x99\\x95\\xec\\x9d\\xb8\\xed\\x95\\xb4 \\xeb\\xb3\\xb4\\xec\\x8b\\x9c\\xea\\xb8\\xb0 \\xeb\\xb0\\x94\\xeb\\x9e\\x8d\\xeb\\x8b\\x88\\xeb\\x8b\\xa4.</p>\\n\\t\\t\\t\\t\\t<p class=\"info\">URL\\xec\\x9d\\xb4 \\xec\\xa0\\x95\\xed\\x99\\x95\\xed\\x95\\x98\\xeb\\x8b\\xa4\\xeb\\xa9\\xb4 \\xec\\x9e\\xa0\\xec\\x8b\\x9c\\xed\\x9b\\x84\\xec\\x97\\x90 \\xeb\\x8b\\xa4\\xec\\x8b\\x9c \\xec\\x97\\xb0\\xea\\xb2\\xb0\\xec\\x9d\\x84 \\xec\\x8b\\x9c\\xeb\\x8f\\x84\\xed\\x95\\xb4 \\xeb\\xb3\\xb4\\xec\\x8b\\x9c\\xea\\xb8\\xb0 \\xeb\\xb0\\x94\\xeb\\x9d\\xbc\\xeb\\xa9\\xb0 \\xea\\xb3\\x84\\xec\\x86\\x8d \\xea\\xb0\\x99\\xec\\x9d\\x80 \\xed\\x98\\x84\\xec\\x83\\x81\\xec\\x9d\\xb4 \\xeb\\xb0\\x9c\\xec\\x83\\x9d\\xed\\x95\\x9c\\xeb\\x8b\\xa4\\xeb\\xa9\\xb4, \\xea\\xb8\\x88\\xec\\x9c\\xb5\\xea\\xb0\\x90\\xeb\\x8f\\x85\\xec\\x9b\\x90(dart@fss.or.kr)\\xec\\x9c\\xbc\\xeb\\xa1\\x9c \\xec\\x97\\xb0\\xeb\\x9d\\xbd\\xec\\x9d\\x84 \\xec\\xa3\\xbc\\xec\\x8b\\x9c\\xea\\xb8\\xb0 \\xeb\\xb0\\x94\\xeb\\x9e\\x8d\\xeb\\x8b\\x88\\xeb\\x8b\\xa4.</p>\\n\\t\\t\\t\\t</div>\\n\\t\\t\\t\\t\\t<a class=\"btnLG\" target=\"_top\" href=\"https://dart.fss.or.kr\">DART \\xeb\\xa9\\x94\\xec\\x9d\\xb8\\xed\\x99\\x94\\xeb\\xa9\\xb4 \\xeb\\xb0\\x94\\xeb\\xa1\\x9c\\xea\\xb0\\x80\\xea\\xb8\\xb0</a>\\n\\t\\t\\t</div>\\n\\n\\t\\t\\t<!-- footerWrap -->\\n\\t\\t\\t<div class=\"footerWrap\">Copyright \\xe2\\x93\\x92 Financial supervisory service. All rights reserved.</div> \\n\\t\\t</div>\\n\\t\\t<!-- //error -->\\n\\t</div>\\n\\t<!-- //cont -->\\n</body>\\n</html>'\n"
     ]
    },
    {
     "name": "stderr",
     "output_type": "stream",
     "text": [
      "Traceback (most recent call last):\n",
      "  File \"C:\\Users\\bitcamp\\Anaconda3\\lib\\site-packages\\dart_fss\\fs\\extract.py\", line 1401, in extract\n",
      "    nstatements = analyze_report(report=report,\n",
      "  File \"C:\\Users\\bitcamp\\Anaconda3\\lib\\site-packages\\dart_fss\\fs\\extract.py\", line 1242, in analyze_report\n",
      "    if separate is False and not xbrl.exist_consolidated():\n",
      "  File \"C:\\Users\\bitcamp\\Anaconda3\\lib\\site-packages\\dart_fss\\xbrl\\dart_xbrl.py\", line 217, in exist_consolidated\n",
      "    cls_list = info_table.cls\n",
      "AttributeError: 'NoneType' object has no attribute 'cls'\n"
     ]
    },
    {
     "data": {
      "application/vnd.jupyter.widget-view+json": {
       "model_id": "7130009cb497486298dd9998642994de",
       "version_major": 2,
       "version_minor": 0
      },
      "text/plain": [
       "Semiannual reports:   0%|          | 0/10 [00:00<?, ?report/s]"
      ]
     },
     "metadata": {},
     "output_type": "display_data"
    },
    {
     "name": "stderr",
     "output_type": "stream",
     "text": [
      "Traceback (most recent call last):\n",
      "  File \"C:\\Users\\bitcamp\\Anaconda3\\lib\\site-packages\\dart_fss\\fs\\extract.py\", line 1401, in extract\n",
      "    nstatements = analyze_report(report=report,\n",
      "  File \"C:\\Users\\bitcamp\\Anaconda3\\lib\\site-packages\\dart_fss\\fs\\extract.py\", line 1243, in analyze_report\n",
      "    raise NotFoundConsolidated('Could not find consolidated financial statements')\n",
      "dart_fss.errors.errors.NotFoundConsolidated: Could not find consolidated financial statements\n",
      "Traceback (most recent call last):\n",
      "  File \"C:\\Users\\bitcamp\\Anaconda3\\lib\\site-packages\\dart_fss\\fs\\extract.py\", line 1401, in extract\n",
      "    nstatements = analyze_report(report=report,\n",
      "  File \"C:\\Users\\bitcamp\\Anaconda3\\lib\\site-packages\\dart_fss\\fs\\extract.py\", line 1243, in analyze_report\n",
      "    raise NotFoundConsolidated('Could not find consolidated financial statements')\n",
      "dart_fss.errors.errors.NotFoundConsolidated: Could not find consolidated financial statements\n",
      "Traceback (most recent call last):\n",
      "  File \"C:\\Users\\bitcamp\\Anaconda3\\lib\\site-packages\\dart_fss\\fs\\extract.py\", line 1401, in extract\n",
      "    nstatements = analyze_report(report=report,\n",
      "  File \"C:\\Users\\bitcamp\\Anaconda3\\lib\\site-packages\\dart_fss\\fs\\extract.py\", line 1243, in analyze_report\n",
      "    raise NotFoundConsolidated('Could not find consolidated financial statements')\n",
      "dart_fss.errors.errors.NotFoundConsolidated: Could not find consolidated financial statements\n",
      "Traceback (most recent call last):\n",
      "  File \"C:\\Users\\bitcamp\\Anaconda3\\lib\\site-packages\\dart_fss\\fs\\extract.py\", line 1401, in extract\n",
      "    nstatements = analyze_report(report=report,\n",
      "  File \"C:\\Users\\bitcamp\\Anaconda3\\lib\\site-packages\\dart_fss\\fs\\extract.py\", line 1243, in analyze_report\n",
      "    raise NotFoundConsolidated('Could not find consolidated financial statements')\n",
      "dart_fss.errors.errors.NotFoundConsolidated: Could not find consolidated financial statements\n",
      "Traceback (most recent call last):\n",
      "  File \"C:\\Users\\bitcamp\\Anaconda3\\lib\\site-packages\\dart_fss\\fs\\extract.py\", line 1401, in extract\n",
      "    nstatements = analyze_report(report=report,\n",
      "  File \"C:\\Users\\bitcamp\\Anaconda3\\lib\\site-packages\\dart_fss\\fs\\extract.py\", line 1243, in analyze_report\n",
      "    raise NotFoundConsolidated('Could not find consolidated financial statements')\n",
      "dart_fss.errors.errors.NotFoundConsolidated: Could not find consolidated financial statements\n",
      "Traceback (most recent call last):\n",
      "  File \"C:\\Users\\bitcamp\\Anaconda3\\lib\\site-packages\\dart_fss\\fs\\extract.py\", line 1401, in extract\n",
      "    nstatements = analyze_report(report=report,\n",
      "  File \"C:\\Users\\bitcamp\\Anaconda3\\lib\\site-packages\\dart_fss\\fs\\extract.py\", line 1243, in analyze_report\n",
      "    raise NotFoundConsolidated('Could not find consolidated financial statements')\n",
      "dart_fss.errors.errors.NotFoundConsolidated: Could not find consolidated financial statements\n",
      "Traceback (most recent call last):\n",
      "  File \"C:\\Users\\bitcamp\\Anaconda3\\lib\\site-packages\\dart_fss\\fs\\extract.py\", line 1401, in extract\n",
      "    nstatements = analyze_report(report=report,\n",
      "  File \"C:\\Users\\bitcamp\\Anaconda3\\lib\\site-packages\\dart_fss\\fs\\extract.py\", line 1243, in analyze_report\n",
      "    raise NotFoundConsolidated('Could not find consolidated financial statements')\n",
      "dart_fss.errors.errors.NotFoundConsolidated: Could not find consolidated financial statements\n",
      "Traceback (most recent call last):\n",
      "  File \"C:\\Users\\bitcamp\\Anaconda3\\lib\\site-packages\\dart_fss\\fs\\extract.py\", line 1401, in extract\n",
      "    nstatements = analyze_report(report=report,\n",
      "  File \"C:\\Users\\bitcamp\\Anaconda3\\lib\\site-packages\\dart_fss\\fs\\extract.py\", line 1243, in analyze_report\n",
      "    raise NotFoundConsolidated('Could not find consolidated financial statements')\n",
      "dart_fss.errors.errors.NotFoundConsolidated: Could not find consolidated financial statements\n",
      "Traceback (most recent call last):\n",
      "  File \"C:\\Users\\bitcamp\\Anaconda3\\lib\\site-packages\\dart_fss\\fs\\extract.py\", line 1401, in extract\n",
      "    nstatements = analyze_report(report=report,\n",
      "  File \"C:\\Users\\bitcamp\\Anaconda3\\lib\\site-packages\\dart_fss\\fs\\extract.py\", line 1243, in analyze_report\n",
      "    raise NotFoundConsolidated('Could not find consolidated financial statements')\n",
      "dart_fss.errors.errors.NotFoundConsolidated: Could not find consolidated financial statements\n"
     ]
    },
    {
     "data": {
      "application/vnd.jupyter.widget-view+json": {
       "model_id": "30c24fb82f264409af911e5edbd4b28e",
       "version_major": 2,
       "version_minor": 0
      },
      "text/plain": [
       "Quarterly reports:   0%|          | 0/21 [00:00<?, ?report/s]"
      ]
     },
     "metadata": {},
     "output_type": "display_data"
    },
    {
     "name": "stderr",
     "output_type": "stream",
     "text": [
      "Traceback (most recent call last):\n",
      "  File \"C:\\Users\\bitcamp\\Anaconda3\\lib\\site-packages\\dart_fss\\fs\\extract.py\", line 1401, in extract\n",
      "    nstatements = analyze_report(report=report,\n",
      "  File \"C:\\Users\\bitcamp\\Anaconda3\\lib\\site-packages\\dart_fss\\fs\\extract.py\", line 1243, in analyze_report\n",
      "    raise NotFoundConsolidated('Could not find consolidated financial statements')\n",
      "dart_fss.errors.errors.NotFoundConsolidated: Could not find consolidated financial statements\n",
      "Traceback (most recent call last):\n",
      "  File \"C:\\Users\\bitcamp\\Anaconda3\\lib\\site-packages\\dart_fss\\fs\\extract.py\", line 1401, in extract\n",
      "    nstatements = analyze_report(report=report,\n",
      "  File \"C:\\Users\\bitcamp\\Anaconda3\\lib\\site-packages\\dart_fss\\fs\\extract.py\", line 1243, in analyze_report\n",
      "    raise NotFoundConsolidated('Could not find consolidated financial statements')\n",
      "dart_fss.errors.errors.NotFoundConsolidated: Could not find consolidated financial statements\n",
      "Traceback (most recent call last):\n",
      "  File \"C:\\Users\\bitcamp\\Anaconda3\\lib\\site-packages\\dart_fss\\fs\\extract.py\", line 1401, in extract\n",
      "    nstatements = analyze_report(report=report,\n",
      "  File \"C:\\Users\\bitcamp\\Anaconda3\\lib\\site-packages\\dart_fss\\fs\\extract.py\", line 1243, in analyze_report\n",
      "    raise NotFoundConsolidated('Could not find consolidated financial statements')\n",
      "dart_fss.errors.errors.NotFoundConsolidated: Could not find consolidated financial statements\n",
      "Traceback (most recent call last):\n",
      "  File \"C:\\Users\\bitcamp\\Anaconda3\\lib\\site-packages\\dart_fss\\fs\\extract.py\", line 1401, in extract\n",
      "    nstatements = analyze_report(report=report,\n",
      "  File \"C:\\Users\\bitcamp\\Anaconda3\\lib\\site-packages\\dart_fss\\fs\\extract.py\", line 1243, in analyze_report\n",
      "    raise NotFoundConsolidated('Could not find consolidated financial statements')\n",
      "dart_fss.errors.errors.NotFoundConsolidated: Could not find consolidated financial statements\n",
      "Traceback (most recent call last):\n",
      "  File \"C:\\Users\\bitcamp\\Anaconda3\\lib\\site-packages\\dart_fss\\fs\\extract.py\", line 1401, in extract\n",
      "    nstatements = analyze_report(report=report,\n",
      "  File \"C:\\Users\\bitcamp\\Anaconda3\\lib\\site-packages\\dart_fss\\fs\\extract.py\", line 1243, in analyze_report\n",
      "    raise NotFoundConsolidated('Could not find consolidated financial statements')\n",
      "dart_fss.errors.errors.NotFoundConsolidated: Could not find consolidated financial statements\n",
      "Traceback (most recent call last):\n",
      "  File \"C:\\Users\\bitcamp\\Anaconda3\\lib\\site-packages\\dart_fss\\fs\\extract.py\", line 1401, in extract\n",
      "    nstatements = analyze_report(report=report,\n",
      "  File \"C:\\Users\\bitcamp\\Anaconda3\\lib\\site-packages\\dart_fss\\fs\\extract.py\", line 1243, in analyze_report\n",
      "    raise NotFoundConsolidated('Could not find consolidated financial statements')\n",
      "dart_fss.errors.errors.NotFoundConsolidated: Could not find consolidated financial statements\n",
      "Traceback (most recent call last):\n",
      "  File \"C:\\Users\\bitcamp\\Anaconda3\\lib\\site-packages\\dart_fss\\fs\\extract.py\", line 1401, in extract\n",
      "    nstatements = analyze_report(report=report,\n",
      "  File \"C:\\Users\\bitcamp\\Anaconda3\\lib\\site-packages\\dart_fss\\fs\\extract.py\", line 1243, in analyze_report\n",
      "    raise NotFoundConsolidated('Could not find consolidated financial statements')\n",
      "dart_fss.errors.errors.NotFoundConsolidated: Could not find consolidated financial statements\n",
      "Traceback (most recent call last):\n",
      "  File \"C:\\Users\\bitcamp\\Anaconda3\\lib\\site-packages\\dart_fss\\fs\\extract.py\", line 1401, in extract\n",
      "    nstatements = analyze_report(report=report,\n",
      "  File \"C:\\Users\\bitcamp\\Anaconda3\\lib\\site-packages\\dart_fss\\fs\\extract.py\", line 1243, in analyze_report\n",
      "    raise NotFoundConsolidated('Could not find consolidated financial statements')\n",
      "dart_fss.errors.errors.NotFoundConsolidated: Could not find consolidated financial statements\n",
      "Traceback (most recent call last):\n",
      "  File \"C:\\Users\\bitcamp\\Anaconda3\\lib\\site-packages\\dart_fss\\fs\\extract.py\", line 1401, in extract\n",
      "    nstatements = analyze_report(report=report,\n",
      "  File \"C:\\Users\\bitcamp\\Anaconda3\\lib\\site-packages\\dart_fss\\fs\\extract.py\", line 1243, in analyze_report\n",
      "    raise NotFoundConsolidated('Could not find consolidated financial statements')\n",
      "dart_fss.errors.errors.NotFoundConsolidated: Could not find consolidated financial statements\n",
      "Traceback (most recent call last):\n",
      "  File \"C:\\Users\\bitcamp\\Anaconda3\\lib\\site-packages\\dart_fss\\fs\\extract.py\", line 1401, in extract\n",
      "    nstatements = analyze_report(report=report,\n",
      "  File \"C:\\Users\\bitcamp\\Anaconda3\\lib\\site-packages\\dart_fss\\fs\\extract.py\", line 1243, in analyze_report\n",
      "    raise NotFoundConsolidated('Could not find consolidated financial statements')\n",
      "dart_fss.errors.errors.NotFoundConsolidated: Could not find consolidated financial statements\n",
      "Traceback (most recent call last):\n",
      "  File \"C:\\Users\\bitcamp\\Anaconda3\\lib\\site-packages\\dart_fss\\fs\\extract.py\", line 1401, in extract\n",
      "    nstatements = analyze_report(report=report,\n",
      "  File \"C:\\Users\\bitcamp\\Anaconda3\\lib\\site-packages\\dart_fss\\fs\\extract.py\", line 1243, in analyze_report\n",
      "    raise NotFoundConsolidated('Could not find consolidated financial statements')\n",
      "dart_fss.errors.errors.NotFoundConsolidated: Could not find consolidated financial statements\n",
      "Traceback (most recent call last):\n",
      "  File \"C:\\Users\\bitcamp\\Anaconda3\\lib\\site-packages\\dart_fss\\fs\\extract.py\", line 1401, in extract\n",
      "    nstatements = analyze_report(report=report,\n",
      "  File \"C:\\Users\\bitcamp\\Anaconda3\\lib\\site-packages\\dart_fss\\fs\\extract.py\", line 1243, in analyze_report\n",
      "    raise NotFoundConsolidated('Could not find consolidated financial statements')\n",
      "dart_fss.errors.errors.NotFoundConsolidated: Could not find consolidated financial statements\n",
      "Traceback (most recent call last):\n",
      "  File \"C:\\Users\\bitcamp\\Anaconda3\\lib\\site-packages\\dart_fss\\fs\\extract.py\", line 1401, in extract\n",
      "    nstatements = analyze_report(report=report,\n",
      "  File \"C:\\Users\\bitcamp\\Anaconda3\\lib\\site-packages\\dart_fss\\fs\\extract.py\", line 1243, in analyze_report\n",
      "    raise NotFoundConsolidated('Could not find consolidated financial statements')\n",
      "dart_fss.errors.errors.NotFoundConsolidated: Could not find consolidated financial statements\n",
      "Traceback (most recent call last):\n",
      "  File \"C:\\Users\\bitcamp\\Anaconda3\\lib\\site-packages\\dart_fss\\fs\\extract.py\", line 1401, in extract\n",
      "    nstatements = analyze_report(report=report,\n",
      "  File \"C:\\Users\\bitcamp\\Anaconda3\\lib\\site-packages\\dart_fss\\fs\\extract.py\", line 1243, in analyze_report\n",
      "    raise NotFoundConsolidated('Could not find consolidated financial statements')\n",
      "dart_fss.errors.errors.NotFoundConsolidated: Could not find consolidated financial statements\n",
      "Traceback (most recent call last):\n",
      "  File \"C:\\Users\\bitcamp\\Anaconda3\\lib\\site-packages\\dart_fss\\fs\\extract.py\", line 1401, in extract\n",
      "    nstatements = analyze_report(report=report,\n",
      "  File \"C:\\Users\\bitcamp\\Anaconda3\\lib\\site-packages\\dart_fss\\fs\\extract.py\", line 1243, in analyze_report\n",
      "    raise NotFoundConsolidated('Could not find consolidated financial statements')\n",
      "dart_fss.errors.errors.NotFoundConsolidated: Could not find consolidated financial statements\n",
      "Traceback (most recent call last):\n",
      "  File \"C:\\Users\\bitcamp\\Anaconda3\\lib\\site-packages\\dart_fss\\fs\\extract.py\", line 1401, in extract\n",
      "    nstatements = analyze_report(report=report,\n",
      "  File \"C:\\Users\\bitcamp\\Anaconda3\\lib\\site-packages\\dart_fss\\fs\\extract.py\", line 1243, in analyze_report\n",
      "    raise NotFoundConsolidated('Could not find consolidated financial statements')\n",
      "dart_fss.errors.errors.NotFoundConsolidated: Could not find consolidated financial statements\n",
      "Traceback (most recent call last):\n",
      "  File \"C:\\Users\\bitcamp\\Anaconda3\\lib\\site-packages\\dart_fss\\fs\\extract.py\", line 1401, in extract\n",
      "    nstatements = analyze_report(report=report,\n",
      "  File \"C:\\Users\\bitcamp\\Anaconda3\\lib\\site-packages\\dart_fss\\fs\\extract.py\", line 1243, in analyze_report\n",
      "    raise NotFoundConsolidated('Could not find consolidated financial statements')\n",
      "dart_fss.errors.errors.NotFoundConsolidated: Could not find consolidated financial statements\n",
      "Traceback (most recent call last):\n",
      "  File \"C:\\Users\\bitcamp\\Anaconda3\\lib\\site-packages\\dart_fss\\fs\\extract.py\", line 1401, in extract\n",
      "    nstatements = analyze_report(report=report,\n",
      "  File \"C:\\Users\\bitcamp\\Anaconda3\\lib\\site-packages\\dart_fss\\fs\\extract.py\", line 1243, in analyze_report\n",
      "    raise NotFoundConsolidated('Could not find consolidated financial statements')\n"
     ]
    },
    {
     "name": "stderr",
     "output_type": "stream",
     "text": [
      "dart_fss.errors.errors.NotFoundConsolidated: Could not find consolidated financial statements\n",
      "Traceback (most recent call last):\n",
      "  File \"C:\\Users\\bitcamp\\Anaconda3\\lib\\site-packages\\dart_fss\\fs\\extract.py\", line 1401, in extract\n",
      "    nstatements = analyze_report(report=report,\n",
      "  File \"C:\\Users\\bitcamp\\Anaconda3\\lib\\site-packages\\dart_fss\\fs\\extract.py\", line 1243, in analyze_report\n",
      "    raise NotFoundConsolidated('Could not find consolidated financial statements')\n",
      "dart_fss.errors.errors.NotFoundConsolidated: Could not find consolidated financial statements\n"
     ]
    },
    {
     "data": {
      "application/vnd.jupyter.widget-view+json": {
       "model_id": "6fc22c5cc8f44357b3c302184d1bfcd0",
       "version_major": 2,
       "version_minor": 0
      },
      "text/plain": [
       "Annual reports:   0%|          | 0/8 [00:00<?, ?report/s]"
      ]
     },
     "metadata": {},
     "output_type": "display_data"
    },
    {
     "data": {
      "application/vnd.jupyter.widget-view+json": {
       "model_id": "67a19cd18ffa4004a122f6d7d4886ba0",
       "version_major": 2,
       "version_minor": 0
      },
      "text/plain": [
       "Semiannual reports:   0%|          | 0/8 [00:00<?, ?report/s]"
      ]
     },
     "metadata": {},
     "output_type": "display_data"
    },
    {
     "data": {
      "application/vnd.jupyter.widget-view+json": {
       "model_id": "2294859539984196a9b7f5d8cae3d1e0",
       "version_major": 2,
       "version_minor": 0
      },
      "text/plain": [
       "Quarterly reports:   0%|          | 0/17 [00:00<?, ?report/s]"
      ]
     },
     "metadata": {},
     "output_type": "display_data"
    },
    {
     "data": {
      "application/vnd.jupyter.widget-view+json": {
       "model_id": "fb0d8713377d469083edf32e86706a7f",
       "version_major": 2,
       "version_minor": 0
      },
      "text/plain": [
       "Annual reports:   0%|          | 0/11 [00:00<?, ?report/s]"
      ]
     },
     "metadata": {},
     "output_type": "display_data"
    },
    {
     "data": {
      "application/vnd.jupyter.widget-view+json": {
       "model_id": "557715bc8a964bd591c148d885cb8544",
       "version_major": 2,
       "version_minor": 0
      },
      "text/plain": [
       "Semiannual reports:   0%|          | 0/10 [00:00<?, ?report/s]"
      ]
     },
     "metadata": {},
     "output_type": "display_data"
    },
    {
     "name": "stderr",
     "output_type": "stream",
     "text": [
      "Traceback (most recent call last):\n",
      "  File \"C:\\Users\\bitcamp\\Anaconda3\\lib\\site-packages\\dart_fss\\fs\\extract.py\", line 1401, in extract\n",
      "    nstatements = analyze_report(report=report,\n",
      "  File \"C:\\Users\\bitcamp\\Anaconda3\\lib\\site-packages\\dart_fss\\fs\\extract.py\", line 1243, in analyze_report\n",
      "    raise NotFoundConsolidated('Could not find consolidated financial statements')\n",
      "dart_fss.errors.errors.NotFoundConsolidated: Could not find consolidated financial statements\n"
     ]
    },
    {
     "data": {
      "application/vnd.jupyter.widget-view+json": {
       "model_id": "6cba3f60bffc48228a920d090bb8b410",
       "version_major": 2,
       "version_minor": 0
      },
      "text/plain": [
       "Quarterly reports:   0%|          | 0/21 [00:00<?, ?report/s]"
      ]
     },
     "metadata": {},
     "output_type": "display_data"
    },
    {
     "name": "stderr",
     "output_type": "stream",
     "text": [
      "Traceback (most recent call last):\n",
      "  File \"C:\\Users\\bitcamp\\Anaconda3\\lib\\site-packages\\dart_fss\\fs\\extract.py\", line 1401, in extract\n",
      "    nstatements = analyze_report(report=report,\n",
      "  File \"C:\\Users\\bitcamp\\Anaconda3\\lib\\site-packages\\dart_fss\\fs\\extract.py\", line 1243, in analyze_report\n",
      "    raise NotFoundConsolidated('Could not find consolidated financial statements')\n",
      "dart_fss.errors.errors.NotFoundConsolidated: Could not find consolidated financial statements\n",
      "Traceback (most recent call last):\n",
      "  File \"C:\\Users\\bitcamp\\Anaconda3\\lib\\site-packages\\dart_fss\\fs\\extract.py\", line 1401, in extract\n",
      "    nstatements = analyze_report(report=report,\n",
      "  File \"C:\\Users\\bitcamp\\Anaconda3\\lib\\site-packages\\dart_fss\\fs\\extract.py\", line 1243, in analyze_report\n",
      "    raise NotFoundConsolidated('Could not find consolidated financial statements')\n",
      "dart_fss.errors.errors.NotFoundConsolidated: Could not find consolidated financial statements\n"
     ]
    },
    {
     "data": {
      "application/vnd.jupyter.widget-view+json": {
       "model_id": "b054c0b7352d4819a16f6a1dda9c19b2",
       "version_major": 2,
       "version_minor": 0
      },
      "text/plain": [
       "Annual reports:   0%|          | 0/11 [00:00<?, ?report/s]"
      ]
     },
     "metadata": {},
     "output_type": "display_data"
    },
    {
     "data": {
      "application/vnd.jupyter.widget-view+json": {
       "model_id": "2a5e1888c7c841228f9f45b2a91fac5e",
       "version_major": 2,
       "version_minor": 0
      },
      "text/plain": [
       "Semiannual reports:   0%|          | 0/10 [00:00<?, ?report/s]"
      ]
     },
     "metadata": {},
     "output_type": "display_data"
    },
    {
     "name": "stderr",
     "output_type": "stream",
     "text": [
      "Traceback (most recent call last):\n",
      "  File \"C:\\Users\\bitcamp\\Anaconda3\\lib\\site-packages\\dart_fss\\fs\\extract.py\", line 1401, in extract\n",
      "    nstatements = analyze_report(report=report,\n",
      "  File \"C:\\Users\\bitcamp\\Anaconda3\\lib\\site-packages\\dart_fss\\fs\\extract.py\", line 1243, in analyze_report\n",
      "    raise NotFoundConsolidated('Could not find consolidated financial statements')\n",
      "dart_fss.errors.errors.NotFoundConsolidated: Could not find consolidated financial statements\n"
     ]
    },
    {
     "data": {
      "application/vnd.jupyter.widget-view+json": {
       "model_id": "00f18c7895a54476829b0392ff572af9",
       "version_major": 2,
       "version_minor": 0
      },
      "text/plain": [
       "Quarterly reports:   0%|          | 0/21 [00:00<?, ?report/s]"
      ]
     },
     "metadata": {},
     "output_type": "display_data"
    },
    {
     "name": "stderr",
     "output_type": "stream",
     "text": [
      "Traceback (most recent call last):\n",
      "  File \"C:\\Users\\bitcamp\\Anaconda3\\lib\\site-packages\\dart_fss\\fs\\extract.py\", line 1401, in extract\n",
      "    nstatements = analyze_report(report=report,\n",
      "  File \"C:\\Users\\bitcamp\\Anaconda3\\lib\\site-packages\\dart_fss\\fs\\extract.py\", line 1243, in analyze_report\n",
      "    raise NotFoundConsolidated('Could not find consolidated financial statements')\n",
      "dart_fss.errors.errors.NotFoundConsolidated: Could not find consolidated financial statements\n",
      "Traceback (most recent call last):\n",
      "  File \"C:\\Users\\bitcamp\\Anaconda3\\lib\\site-packages\\dart_fss\\fs\\extract.py\", line 1401, in extract\n",
      "    nstatements = analyze_report(report=report,\n",
      "  File \"C:\\Users\\bitcamp\\Anaconda3\\lib\\site-packages\\dart_fss\\fs\\extract.py\", line 1243, in analyze_report\n",
      "    raise NotFoundConsolidated('Could not find consolidated financial statements')\n",
      "dart_fss.errors.errors.NotFoundConsolidated: Could not find consolidated financial statements\n"
     ]
    },
    {
     "data": {
      "application/vnd.jupyter.widget-view+json": {
       "model_id": "c6d3c7ab6086413685dd131d98fe3298",
       "version_major": 2,
       "version_minor": 0
      },
      "text/plain": [
       "Annual reports:   0%|          | 0/11 [00:00<?, ?report/s]"
      ]
     },
     "metadata": {},
     "output_type": "display_data"
    },
    {
     "data": {
      "application/vnd.jupyter.widget-view+json": {
       "model_id": "9cc3543fb46b4989ac5313ed807f7717",
       "version_major": 2,
       "version_minor": 0
      },
      "text/plain": [
       "Semiannual reports:   0%|          | 0/10 [00:00<?, ?report/s]"
      ]
     },
     "metadata": {},
     "output_type": "display_data"
    },
    {
     "name": "stderr",
     "output_type": "stream",
     "text": [
      "Traceback (most recent call last):\n",
      "  File \"C:\\Users\\bitcamp\\Anaconda3\\lib\\site-packages\\dart_fss\\fs\\extract.py\", line 1401, in extract\n",
      "    nstatements = analyze_report(report=report,\n",
      "  File \"C:\\Users\\bitcamp\\Anaconda3\\lib\\site-packages\\dart_fss\\fs\\extract.py\", line 1243, in analyze_report\n",
      "    raise NotFoundConsolidated('Could not find consolidated financial statements')\n",
      "dart_fss.errors.errors.NotFoundConsolidated: Could not find consolidated financial statements\n"
     ]
    },
    {
     "data": {
      "application/vnd.jupyter.widget-view+json": {
       "model_id": "f7c3136e8bed4332b549d3b600100e48",
       "version_major": 2,
       "version_minor": 0
      },
      "text/plain": [
       "Quarterly reports:   0%|          | 0/21 [00:00<?, ?report/s]"
      ]
     },
     "metadata": {},
     "output_type": "display_data"
    },
    {
     "name": "stderr",
     "output_type": "stream",
     "text": [
      "Traceback (most recent call last):\n",
      "  File \"C:\\Users\\bitcamp\\Anaconda3\\lib\\site-packages\\dart_fss\\fs\\extract.py\", line 1401, in extract\n",
      "    nstatements = analyze_report(report=report,\n",
      "  File \"C:\\Users\\bitcamp\\Anaconda3\\lib\\site-packages\\dart_fss\\fs\\extract.py\", line 1243, in analyze_report\n",
      "    raise NotFoundConsolidated('Could not find consolidated financial statements')\n",
      "dart_fss.errors.errors.NotFoundConsolidated: Could not find consolidated financial statements\n",
      "Traceback (most recent call last):\n",
      "  File \"C:\\Users\\bitcamp\\Anaconda3\\lib\\site-packages\\dart_fss\\fs\\extract.py\", line 1401, in extract\n",
      "    nstatements = analyze_report(report=report,\n",
      "  File \"C:\\Users\\bitcamp\\Anaconda3\\lib\\site-packages\\dart_fss\\fs\\extract.py\", line 1243, in analyze_report\n",
      "    raise NotFoundConsolidated('Could not find consolidated financial statements')\n",
      "dart_fss.errors.errors.NotFoundConsolidated: Could not find consolidated financial statements\n"
     ]
    },
    {
     "data": {
      "application/vnd.jupyter.widget-view+json": {
       "model_id": "787aa4b3ac29406eb875bdd541e37612",
       "version_major": 2,
       "version_minor": 0
      },
      "text/plain": [
       "Annual reports:   0%|          | 0/11 [00:00<?, ?report/s]"
      ]
     },
     "metadata": {},
     "output_type": "display_data"
    },
    {
     "data": {
      "application/vnd.jupyter.widget-view+json": {
       "model_id": "b09b4ddf13114748963ccb1ffb60c094",
       "version_major": 2,
       "version_minor": 0
      },
      "text/plain": [
       "Semiannual reports:   0%|          | 0/10 [00:00<?, ?report/s]"
      ]
     },
     "metadata": {},
     "output_type": "display_data"
    },
    {
     "name": "stderr",
     "output_type": "stream",
     "text": [
      "Traceback (most recent call last):\n",
      "  File \"C:\\Users\\bitcamp\\Anaconda3\\lib\\site-packages\\dart_fss\\fs\\extract.py\", line 1401, in extract\n",
      "    nstatements = analyze_report(report=report,\n",
      "  File \"C:\\Users\\bitcamp\\Anaconda3\\lib\\site-packages\\dart_fss\\fs\\extract.py\", line 1243, in analyze_report\n",
      "    raise NotFoundConsolidated('Could not find consolidated financial statements')\n",
      "dart_fss.errors.errors.NotFoundConsolidated: Could not find consolidated financial statements\n"
     ]
    },
    {
     "data": {
      "application/vnd.jupyter.widget-view+json": {
       "model_id": "29bcb4c12a5641bd870868d731e1796c",
       "version_major": 2,
       "version_minor": 0
      },
      "text/plain": [
       "Quarterly reports:   0%|          | 0/21 [00:00<?, ?report/s]"
      ]
     },
     "metadata": {},
     "output_type": "display_data"
    }
   ],
   "source": [
    "import dart_fss as dart\n",
    "\n",
    "except_li = []\n",
    "\n",
    "# Open DART API KEY 설정\n",
    "api_key='9ca2f170725d735b634acb1e71338844eaf45a5e'\n",
    "dart.set_api_key(api_key=api_key)\n",
    "\n",
    "# DART 에 공시된 회사 리스트 불러오기\n",
    "corp_list = dart.get_corp_list()\n",
    "\n",
    "for code in range(len(kospi_df)):\n",
    "    try:\n",
    "        # 2012년부터 연간 연결재무제표 불러오기\n",
    "        fs = dart.fs.extract(f'{kospi_df.iloc[code,0]:08}', bgn_de='20120101', cumulative=False, report_tp='quarter')\n",
    "\n",
    "        # # 재무제표 검색 결과를 엑셀파일로 저장 ( 기본저장위치: 실행폴더/fsdata )\n",
    "        fs.save(f'C:/Users/bitcamp/Desktop/final_data/재무제표/{kospi_df.iloc[code,2]:06}.xlsx')\n",
    "    except:\n",
    "        print(kospi_df.iloc[code,1])\n",
    "        except_li.append(kospi_df.iloc[code,1])"
   ]
  },
  {
   "cell_type": "code",
   "execution_count": 62,
   "id": "a9154584",
   "metadata": {},
   "outputs": [
    {
     "data": {
      "text/plain": [
       "'00117212'"
      ]
     },
     "execution_count": 62,
     "metadata": {},
     "output_type": "execute_result"
    }
   ],
   "source": [
    "f'{kospi_df.iloc[817,0]:08}'"
   ]
  },
  {
   "cell_type": "code",
   "execution_count": null,
   "id": "e7a820f4",
   "metadata": {},
   "outputs": [],
   "source": []
  },
  {
   "cell_type": "code",
   "execution_count": null,
   "id": "c010247b",
   "metadata": {},
   "outputs": [],
   "source": []
  },
  {
   "cell_type": "code",
   "execution_count": null,
   "id": "568883f5",
   "metadata": {},
   "outputs": [],
   "source": []
  },
  {
   "cell_type": "code",
   "execution_count": null,
   "id": "ff7a3f2e",
   "metadata": {},
   "outputs": [],
   "source": []
  },
  {
   "cell_type": "code",
   "execution_count": null,
   "id": "35b2420c",
   "metadata": {},
   "outputs": [],
   "source": []
  },
  {
   "cell_type": "code",
   "execution_count": null,
   "id": "1f2315e0",
   "metadata": {},
   "outputs": [],
   "source": []
  },
  {
   "cell_type": "code",
   "execution_count": null,
   "id": "a8b342c2",
   "metadata": {},
   "outputs": [],
   "source": []
  },
  {
   "cell_type": "code",
   "execution_count": null,
   "id": "1fc268ad",
   "metadata": {},
   "outputs": [],
   "source": []
  },
  {
   "cell_type": "code",
   "execution_count": null,
   "id": "308e2b30",
   "metadata": {},
   "outputs": [],
   "source": []
  }
 ],
 "metadata": {
  "kernelspec": {
   "display_name": "Python 3 (ipykernel)",
   "language": "python",
   "name": "python3"
  },
  "language_info": {
   "codemirror_mode": {
    "name": "ipython",
    "version": 3
   },
   "file_extension": ".py",
   "mimetype": "text/x-python",
   "name": "python",
   "nbconvert_exporter": "python",
   "pygments_lexer": "ipython3",
   "version": "3.9.7"
  },
  "varInspector": {
   "cols": {
    "lenName": 16,
    "lenType": 16,
    "lenVar": 40
   },
   "kernels_config": {
    "python": {
     "delete_cmd_postfix": "",
     "delete_cmd_prefix": "del ",
     "library": "var_list.py",
     "varRefreshCmd": "print(var_dic_list())"
    },
    "r": {
     "delete_cmd_postfix": ") ",
     "delete_cmd_prefix": "rm(",
     "library": "var_list.r",
     "varRefreshCmd": "cat(var_dic_list()) "
    }
   },
   "types_to_exclude": [
    "module",
    "function",
    "builtin_function_or_method",
    "instance",
    "_Feature"
   ],
   "window_display": false
  }
 },
 "nbformat": 4,
 "nbformat_minor": 5
}
